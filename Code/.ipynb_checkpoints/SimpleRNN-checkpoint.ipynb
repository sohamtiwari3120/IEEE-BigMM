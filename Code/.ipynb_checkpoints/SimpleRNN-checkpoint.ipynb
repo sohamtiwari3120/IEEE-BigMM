{
 "cells": [
  {
   "cell_type": "code",
   "execution_count": 1,
   "metadata": {
    "colab": {
     "base_uri": "https://localhost:8080/",
     "height": 122
    },
    "colab_type": "code",
    "id": "1TK7PEn2XqnW",
    "outputId": "5c8a3a2d-0be3-4be5-a935-2ecb45bd7d97"
   },
   "outputs": [
    {
     "name": "stdout",
     "output_type": "stream",
     "text": [
      "Go to this URL in a browser: https://accounts.google.com/o/oauth2/auth?client_id=947318989803-6bn6qk8qdgf4n4g3pfee6491hc0brc4i.apps.googleusercontent.com&redirect_uri=urn%3aietf%3awg%3aoauth%3a2.0%3aoob&response_type=code&scope=email%20https%3a%2f%2fwww.googleapis.com%2fauth%2fdocs.test%20https%3a%2f%2fwww.googleapis.com%2fauth%2fdrive%20https%3a%2f%2fwww.googleapis.com%2fauth%2fdrive.photos.readonly%20https%3a%2f%2fwww.googleapis.com%2fauth%2fpeopleapi.readonly\n",
      "\n",
      "Enter your authorization code:\n",
      "··········\n",
      "Mounted at /content/drive\n"
     ]
    }
   ],
   "source": [
    "from google.colab import drive\n",
    "drive.mount('/content/drive')"
   ]
  },
  {
   "cell_type": "code",
   "execution_count": 2,
   "metadata": {
    "colab": {
     "base_uri": "https://localhost:8080/",
     "height": 71
    },
    "colab_type": "code",
    "id": "2KV107SdX-Qc",
    "outputId": "69153cb7-7ad7-452f-bbb0-6a2e696e259c"
   },
   "outputs": [
    {
     "name": "stderr",
     "output_type": "stream",
     "text": [
      "/usr/local/lib/python3.6/dist-packages/statsmodels/tools/_testing.py:19: FutureWarning: pandas.util.testing is deprecated. Use the functions in the public API at pandas.testing instead.\n",
      "  import pandas.util.testing as tm\n"
     ]
    }
   ],
   "source": [
    "import numpy as np\n",
    "import pandas as pd\n",
    "import matplotlib.pyplot as plt\n",
    "import seaborn as sns\n",
    "\n",
    "%matplotlib inline"
   ]
  },
  {
   "cell_type": "code",
   "execution_count": 3,
   "metadata": {
    "colab": {
     "base_uri": "https://localhost:8080/",
     "height": 204
    },
    "colab_type": "code",
    "id": "64zwrCZBYHhE",
    "outputId": "6c728c87-87a1-4f97-d9cc-ccea1aaf543a"
   },
   "outputs": [
    {
     "data": {
      "text/html": [
       "<div>\n",
       "<style scoped>\n",
       "    .dataframe tbody tr th:only-of-type {\n",
       "        vertical-align: middle;\n",
       "    }\n",
       "\n",
       "    .dataframe tbody tr th {\n",
       "        vertical-align: top;\n",
       "    }\n",
       "\n",
       "    .dataframe thead th {\n",
       "        text-align: right;\n",
       "    }\n",
       "</style>\n",
       "<table border=\"1\" class=\"dataframe\">\n",
       "  <thead>\n",
       "    <tr style=\"text-align: right;\">\n",
       "      <th></th>\n",
       "      <th>Unnamed: 0</th>\n",
       "      <th>tweet_id</th>\n",
       "      <th>text</th>\n",
       "      <th>Sarcasm</th>\n",
       "    </tr>\n",
       "  </thead>\n",
       "  <tbody>\n",
       "    <tr>\n",
       "      <th>0</th>\n",
       "      <td>2725</td>\n",
       "      <td>1.055100e+18</td>\n",
       "      <td>rakhi sawant full interview tanushree dutta de...</td>\n",
       "      <td>0.0</td>\n",
       "    </tr>\n",
       "    <tr>\n",
       "      <th>1</th>\n",
       "      <td>1261</td>\n",
       "      <td>1.051370e+18</td>\n",
       "      <td>ption no2</td>\n",
       "      <td>0.0</td>\n",
       "    </tr>\n",
       "    <tr>\n",
       "      <th>2</th>\n",
       "      <td>7072</td>\n",
       "      <td>1.049920e+18</td>\n",
       "      <td></td>\n",
       "      <td>0.0</td>\n",
       "    </tr>\n",
       "    <tr>\n",
       "      <th>3</th>\n",
       "      <td>2448</td>\n",
       "      <td>1.055020e+18</td>\n",
       "      <td>ption no2</td>\n",
       "      <td>1.0</td>\n",
       "    </tr>\n",
       "    <tr>\n",
       "      <th>4</th>\n",
       "      <td>6188</td>\n",
       "      <td>1.052230e+18</td>\n",
       "      <td>ption no2</td>\n",
       "      <td>0.0</td>\n",
       "    </tr>\n",
       "  </tbody>\n",
       "</table>\n",
       "</div>"
      ],
      "text/plain": [
       "   Unnamed: 0  ...  Sarcasm\n",
       "0        2725  ...      0.0\n",
       "1        1261  ...      0.0\n",
       "2        7072  ...      0.0\n",
       "3        2448  ...      1.0\n",
       "4        6188  ...      0.0\n",
       "\n",
       "[5 rows x 4 columns]"
      ]
     },
     "execution_count": 3,
     "metadata": {
      "tags": []
     },
     "output_type": "execute_result"
    }
   ],
   "source": [
    "base_path = \"/content/drive/My Drive/IEEE-BigMM\"\n",
    "\n",
    "train_csv = base_path + \"/mydata/sarcasm_train.csv\"\n",
    "val_csv = base_path + \"/mydata/sarcasm_val.csv\"\n",
    "\n",
    "train_df = pd.read_csv(train_csv)\n",
    "val_df = pd.read_csv(val_csv)\n",
    "\n",
    "train_df.head()"
   ]
  },
  {
   "cell_type": "code",
   "execution_count": 4,
   "metadata": {
    "colab": {
     "base_uri": "https://localhost:8080/",
     "height": 51
    },
    "colab_type": "code",
    "id": "E1kIH1A_YkR4",
    "outputId": "4c1caa10-d367-48ba-e25a-8ba2b4e7d448"
   },
   "outputs": [
    {
     "name": "stdout",
     "output_type": "stream",
     "text": [
      "Train shape:  (6382, 4)\n",
      "Val shape:  (1596, 4)\n"
     ]
    }
   ],
   "source": [
    "print(\"Train shape: \", train_df.shape)\n",
    "print(\"Val shape: \", val_df.shape)"
   ]
  },
  {
   "cell_type": "code",
   "execution_count": 5,
   "metadata": {
    "colab": {},
    "colab_type": "code",
    "id": "gSKYj9t1gZS6"
   },
   "outputs": [],
   "source": [
    "import torch\n",
    "from torchtext import data"
   ]
  },
  {
   "cell_type": "code",
   "execution_count": 6,
   "metadata": {
    "colab": {},
    "colab_type": "code",
    "id": "hpx0atv-gco3"
   },
   "outputs": [],
   "source": [
    "SEED = 1234\n",
    "\n",
    "torch.manual_seed(SEED)\n",
    "torch.backends.cudnn.deterministic = True\n",
    "\n",
    "TEXT = data.Field(tokenize='spacy')\n",
    "LABEL = data.LabelField(dtype=torch.float)"
   ]
  },
  {
   "cell_type": "code",
   "execution_count": 7,
   "metadata": {
    "colab": {},
    "colab_type": "code",
    "id": "ks-ef3G4h_Yt"
   },
   "outputs": [],
   "source": [
    "fields = [(None, None), (None, None), ('text', TEXT), ('target', LABEL)]"
   ]
  },
  {
   "cell_type": "code",
   "execution_count": 8,
   "metadata": {
    "colab": {},
    "colab_type": "code",
    "id": "ePE6eNoeiQoC"
   },
   "outputs": [],
   "source": [
    "train_data, val_data = data.TabularDataset.splits(\n",
    "      path = base_path+'/mydata',\n",
    "      train = 'sarcasm_train.csv',\n",
    "      validation = 'sarcasm_val.csv',\n",
    "      format = 'csv',\n",
    "      fields = fields,\n",
    "      skip_header = True\n",
    ")"
   ]
  },
  {
   "cell_type": "code",
   "execution_count": 9,
   "metadata": {
    "colab": {
     "base_uri": "https://localhost:8080/",
     "height": 51
    },
    "colab_type": "code",
    "id": "WtSNdn0_3SMD",
    "outputId": "30aa7941-67ee-4d1f-a4db-c58459c73363"
   },
   "outputs": [
    {
     "name": "stdout",
     "output_type": "stream",
     "text": [
      "# of training data:  6382\n",
      "# of val data:  1596\n"
     ]
    }
   ],
   "source": [
    "print(\"# of training data: \", len(train_data))\n",
    "print(\"# of val data: \", len(val_data))"
   ]
  },
  {
   "cell_type": "code",
   "execution_count": 10,
   "metadata": {
    "colab": {},
    "colab_type": "code",
    "id": "pM3aWXhB3cIl"
   },
   "outputs": [],
   "source": [
    "MAX_VOCAB_SIZE = 25000\n",
    "\n",
    "TEXT.build_vocab(train_data, max_size=MAX_VOCAB_SIZE)\n",
    "LABEL.build_vocab(train_data)"
   ]
  },
  {
   "cell_type": "code",
   "execution_count": 11,
   "metadata": {
    "colab": {
     "base_uri": "https://localhost:8080/",
     "height": 51
    },
    "colab_type": "code",
    "id": "uqBXc_Ey3_4t",
    "outputId": "ef198763-b41a-4ce6-8593-8a2dc24947c2"
   },
   "outputs": [
    {
     "name": "stdout",
     "output_type": "stream",
     "text": [
      "# unique tokens in TEXT:  14476\n",
      "# unique tokens in LABEL:  2\n"
     ]
    }
   ],
   "source": [
    "print(\"# unique tokens in TEXT: \", len(TEXT.vocab))\n",
    "print(\"# unique tokens in LABEL: \", len(LABEL.vocab))"
   ]
  },
  {
   "cell_type": "code",
   "execution_count": 12,
   "metadata": {
    "colab": {
     "base_uri": "https://localhost:8080/",
     "height": 54
    },
    "colab_type": "code",
    "id": "UHiJAkhB4e9l",
    "outputId": "ed9c7d1b-cad9-4236-83ca-545d899f46e7"
   },
   "outputs": [
    {
     "name": "stdout",
     "output_type": "stream",
     "text": [
      "[('metoo', 5315), ('woman', 1019), ('no2', 915), ('ption', 886), ('movement', 827), ('sexual', 627), ('amp', 496), ('metooindia', 450), ('harassment', 404), (' ', 363)]\n"
     ]
    }
   ],
   "source": [
    "print(TEXT.vocab.freqs.most_common(10))"
   ]
  },
  {
   "cell_type": "code",
   "execution_count": 13,
   "metadata": {
    "colab": {
     "base_uri": "https://localhost:8080/",
     "height": 34
    },
    "colab_type": "code",
    "id": "shapSxoU40PT",
    "outputId": "88bb2f39-97f2-40d8-d268-143100f06b49"
   },
   "outputs": [
    {
     "name": "stdout",
     "output_type": "stream",
     "text": [
      "['<unk>', '<pad>', 'metoo', 'woman', 'no2', 'ption', 'movement', 'sexual', 'amp', 'metooindia']\n"
     ]
    }
   ],
   "source": [
    "print(TEXT.vocab.itos[:10])"
   ]
  },
  {
   "cell_type": "code",
   "execution_count": 14,
   "metadata": {
    "colab": {},
    "colab_type": "code",
    "id": "YBfJ4nck45r1"
   },
   "outputs": [],
   "source": [
    "BATCH_SIZE = 64\n",
    "\n",
    "device = torch.device('cuda' if torch.cuda.is_available() else 'cpu')\n",
    "\n",
    "train_iterator, val_iterator = data.BucketIterator.splits(\n",
    "        (train_data, val_data),\n",
    "        batch_size = BATCH_SIZE,\n",
    "        sort_key=lambda x: len(x.text),\n",
    "        device = device\n",
    ")"
   ]
  },
  {
   "cell_type": "code",
   "execution_count": 15,
   "metadata": {
    "colab": {},
    "colab_type": "code",
    "id": "LFSKLlrc5l6s"
   },
   "outputs": [],
   "source": [
    "import torch.nn as nn\n",
    "\n",
    "class RNN(nn.Module):\n",
    "  def __init__(self, input_dim, embedding_dim, hidden_dim, output_dim):\n",
    "    super().__init__()\n",
    "\n",
    "    self.embedding = nn.Embedding(input_dim, embedding_dim)\n",
    "    self.rnn = nn.RNN(embedding_dim, hidden_dim)\n",
    "    self.fc = nn.Linear(hidden_dim, output_dim)\n",
    "\n",
    "  def forward(self, text):\n",
    "    embedded = self.embedding(text)\n",
    "    output, hidden = self.rnn(embedded)\n",
    "\n",
    "    assert torch.equal(output[-1,:,:], hidden.squeeze(0))\n",
    "\n",
    "    return self.fc(hidden.squeeze(0))"
   ]
  },
  {
   "cell_type": "code",
   "execution_count": 16,
   "metadata": {
    "colab": {},
    "colab_type": "code",
    "id": "0Le2w0KE6_oc"
   },
   "outputs": [],
   "source": [
    "INPUT_DIM = len(TEXT.vocab)\n",
    "EMBEDDING_DIM = 100\n",
    "HIDDEN_DIM = 256\n",
    "OUTPUT_DIM = 1\n",
    "\n",
    "model = RNN(INPUT_DIM, EMBEDDING_DIM, HIDDEN_DIM, OUTPUT_DIM)"
   ]
  },
  {
   "cell_type": "code",
   "execution_count": 17,
   "metadata": {
    "colab": {},
    "colab_type": "code",
    "id": "VN5wUJY_7sNv"
   },
   "outputs": [],
   "source": [
    "import torch.optim as optim\n",
    "\n",
    "optimizer = optim.SGD(model.parameters(), lr=1e-3)"
   ]
  },
  {
   "cell_type": "code",
   "execution_count": 18,
   "metadata": {
    "colab": {},
    "colab_type": "code",
    "id": "EnRyaXIT715f"
   },
   "outputs": [],
   "source": [
    "criterion = nn.BCEWithLogitsLoss()"
   ]
  },
  {
   "cell_type": "code",
   "execution_count": 19,
   "metadata": {
    "colab": {},
    "colab_type": "code",
    "id": "iVZlNcsJ7498"
   },
   "outputs": [],
   "source": [
    "model = model.to(device)\n",
    "criterion = criterion.to(device)"
   ]
  },
  {
   "cell_type": "code",
   "execution_count": 20,
   "metadata": {
    "colab": {},
    "colab_type": "code",
    "id": "wrhPzqde8AfX"
   },
   "outputs": [],
   "source": [
    "def binary_accuracy(preds, y):\n",
    "  rounded_preds = torch.round(torch.sigmoid(preds))\n",
    "  correct = (rounded_preds == y).float()\n",
    "  acc = correct.sum() / len(correct)\n",
    "  return acc"
   ]
  },
  {
   "cell_type": "code",
   "execution_count": 21,
   "metadata": {
    "colab": {},
    "colab_type": "code",
    "id": "7eQh4piG8WUI"
   },
   "outputs": [],
   "source": [
    "from sklearn.metrics import roc_auc_score\n",
    "\n",
    "def train(model, iterator, optimizer, criterion):\n",
    "  epoch_loss = 0\n",
    "  epoch_acc = 0\n",
    "  epoch_roc = 0\n",
    "\n",
    "  model.train()\n",
    "\n",
    "  for batch in iterator:\n",
    "    optimizer.zero_grad()\n",
    "\n",
    "    predictions = model(batch.text).squeeze(1)\n",
    "    \n",
    "    loss = criterion(predictions, batch.target)\n",
    "    loss.backward()\n",
    "    \n",
    "    acc = binary_accuracy(predictions, batch.target)\n",
    "    # roc = roc_auc_score(batch.target, torch.sigmoid(predictions).detach().numpy())\n",
    "\n",
    "    optimizer.step()\n",
    "\n",
    "    epoch_loss += loss.item()\n",
    "    epoch_acc += acc.item()\n",
    "    # epoch_roc += roc\n",
    "  \n",
    "  return epoch_loss / len(iterator), epoch_acc / len(iterator)"
   ]
  },
  {
   "cell_type": "code",
   "execution_count": 22,
   "metadata": {
    "colab": {},
    "colab_type": "code",
    "id": "XPIvpsjW9hPc"
   },
   "outputs": [],
   "source": [
    "def validate(model, iterator, criterion):\n",
    "  epoch_loss = 0\n",
    "  epoch_acc = 0\n",
    "  epoch_roc = 0\n",
    "   \n",
    "  model.eval()\n",
    "\n",
    "  with torch.no_grad():\n",
    "    for batch in iterator:\n",
    "\n",
    "      predictions = model(batch.text).squeeze(1)\n",
    "\n",
    "      loss = criterion(predictions, batch.target)\n",
    "      acc = binary_accuracy(predictions, batch.target)\n",
    "      # roc = roc_auc_score(batch.target, torch.sigmoid(predictions).detach().numpy())\n",
    "\n",
    "      epoch_loss += loss.item()\n",
    "      epoch_acc += acc.item()\n",
    "      # epoch_roc += roc\n",
    "    \n",
    "  return epoch_loss / len(iterator), epoch_acc / len(iterator)"
   ]
  },
  {
   "cell_type": "code",
   "execution_count": 23,
   "metadata": {
    "colab": {},
    "colab_type": "code",
    "id": "k9TdIBOFAwea"
   },
   "outputs": [],
   "source": [
    "import time\n",
    "\n",
    "def epoch_time(start_time, end_time):\n",
    "    elapsed_time = end_time - start_time\n",
    "    elapsed_mins = int(elapsed_time / 60)\n",
    "    elapsed_secs = int(elapsed_time - (elapsed_mins * 60))\n",
    "    return elapsed_mins, elapsed_secs"
   ]
  },
  {
   "cell_type": "code",
   "execution_count": 30,
   "metadata": {
    "colab": {
     "base_uri": "https://localhost:8080/",
     "height": 272
    },
    "colab_type": "code",
    "id": "00mlCHgYA2WE",
    "outputId": "eeb0955c-9323-4441-bdd7-32d004f87418"
   },
   "outputs": [
    {
     "name": "stdout",
     "output_type": "stream",
     "text": [
      "Epoch: 02 | Time: 0m 1s\n",
      "\tTrain Loss: 0.107 | Train Acc: 97.88%\n",
      "\tVal Loss: 0.290 | Val Acc: 96.31%\n",
      "Epoch: 04 | Time: 0m 1s\n",
      "\tTrain Loss: 0.107 | Train Acc: 97.82%\n",
      "\tVal Loss: 0.289 | Val Acc: 96.37%\n",
      "Epoch: 06 | Time: 0m 1s\n",
      "\tTrain Loss: 0.107 | Train Acc: 97.83%\n",
      "\tVal Loss: 0.288 | Val Acc: 96.37%\n",
      "Epoch: 08 | Time: 0m 1s\n",
      "\tTrain Loss: 0.107 | Train Acc: 97.83%\n",
      "\tVal Loss: 0.287 | Val Acc: 96.50%\n",
      "Epoch: 10 | Time: 0m 1s\n",
      "\tTrain Loss: 0.106 | Train Acc: 97.88%\n",
      "\tVal Loss: 0.286 | Val Acc: 96.50%\n"
     ]
    }
   ],
   "source": [
    "N_EPOCHS = 10\n",
    "\n",
    "best_val_loss = float('inf')\n",
    "\n",
    "for epoch in range(N_EPOCHS):\n",
    "  start_time = time.time()\n",
    "\n",
    "  train_loss, train_acc = train(model, train_iterator, optimizer, criterion)\n",
    "  val_loss, val_acc = validate(model, val_iterator, criterion)\n",
    "\n",
    "  end_time = time.time()\n",
    "\n",
    "  epoch_mins, epoch_secs = epoch_time(start_time, end_time)\n",
    "  \n",
    "  if(val_loss < best_val_loss):\n",
    "    best_val_loss = val_loss\n",
    "    torch.save(model.state_dict(), base_path + '/models/rnn.pt')\n",
    "\n",
    "  if((epoch+1) % 2 == 0):\n",
    "    print(f'Epoch: {epoch+1:02} | Time: {epoch_mins}m {epoch_secs}s')\n",
    "    print(f'\\tTrain Loss: {train_loss:.3f} | Train Acc: {train_acc*100:.2f}%')\n",
    "    print(f'\\tVal Loss: {val_loss:.3f} | Val Acc: {val_acc*100:.2f}%')"
   ]
  }
 ],
 "metadata": {
  "accelerator": "GPU",
  "colab": {
   "collapsed_sections": [],
   "name": "SimpleRNN",
   "provenance": []
  },
  "kernelspec": {
   "display_name": "Python 3",
   "language": "python",
   "name": "python3"
  },
  "language_info": {
   "codemirror_mode": {
    "name": "ipython",
    "version": 3
   },
   "file_extension": ".py",
   "mimetype": "text/x-python",
   "name": "python",
   "nbconvert_exporter": "python",
   "pygments_lexer": "ipython3",
   "version": "3.7.6"
  }
 },
 "nbformat": 4,
 "nbformat_minor": 1
}
