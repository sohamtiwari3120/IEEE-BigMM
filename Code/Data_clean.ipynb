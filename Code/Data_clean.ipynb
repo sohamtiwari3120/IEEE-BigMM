{
 "cells": [
  {
   "cell_type": "code",
   "execution_count": 1,
   "metadata": {
    "colab": {
     "base_uri": "https://localhost:8080/",
     "height": 124
    },
    "colab_type": "code",
    "executionInfo": {
     "elapsed": 48792,
     "status": "ok",
     "timestamp": 1593748662932,
     "user": {
      "displayName": "Soham Tiwari",
      "photoUrl": "https://lh3.googleusercontent.com/a-/AOh14Gh1XnK9ngDR_60Sh8Rhl3BGjajGSILiyfjas_5XMg=s64",
      "userId": "06949155908663757402"
     },
     "user_tz": -330
    },
    "id": "ZV7hAXhMiGuH",
    "outputId": "104dfaec-eed0-4da0-ea70-c52b0eb36ef9"
   },
   "outputs": [],
   "source": [
    "# from google.colab import drive\n",
    "# drive.mount('/content/drive')"
   ]
  },
  {
   "cell_type": "code",
   "execution_count": 2,
   "metadata": {
    "colab": {
     "base_uri": "https://localhost:8080/",
     "height": 69
    },
    "colab_type": "code",
    "executionInfo": {
     "elapsed": 4512,
     "status": "ok",
     "timestamp": 1593748781686,
     "user": {
      "displayName": "Soham Tiwari",
      "photoUrl": "https://lh3.googleusercontent.com/a-/AOh14Gh1XnK9ngDR_60Sh8Rhl3BGjajGSILiyfjas_5XMg=s64",
      "userId": "06949155908663757402"
     },
     "user_tz": -330
    },
    "id": "7uEwT-q1iSkF",
    "outputId": "e0f5ccef-120f-4ae5-8135-a54a784cda83"
   },
   "outputs": [],
   "source": [
    "# %cd '/content/drive/My Drive/IEEE BigMM/IEEE-BigMM'\n",
    "# %ls\n",
    "# %cd 'Code/'"
   ]
  },
  {
   "cell_type": "code",
   "execution_count": 1,
   "metadata": {
    "colab": {},
    "colab_type": "code",
    "executionInfo": {
     "elapsed": 4282,
     "status": "ok",
     "timestamp": 1593748781694,
     "user": {
      "displayName": "Soham Tiwari",
      "photoUrl": "https://lh3.googleusercontent.com/a-/AOh14Gh1XnK9ngDR_60Sh8Rhl3BGjajGSILiyfjas_5XMg=s64",
      "userId": "06949155908663757402"
     },
     "user_tz": -330
    },
    "id": "0hkrVJtDeozs"
   },
   "outputs": [],
   "source": [
    "import pandas as pd\n",
    "import re\n",
    "import nltk\n",
    "import string\n",
    "import matplotlib.pyplot as plt"
   ]
  },
  {
   "cell_type": "code",
   "execution_count": null,
   "metadata": {
    "colab": {
     "base_uri": "https://localhost:8080/",
     "height": 1000
    },
    "colab_type": "code",
    "executionInfo": {
     "elapsed": 3711,
     "status": "ok",
     "timestamp": 1593748781701,
     "user": {
      "displayName": "Soham Tiwari",
      "photoUrl": "https://lh3.googleusercontent.com/a-/AOh14Gh1XnK9ngDR_60Sh8Rhl3BGjajGSILiyfjas_5XMg=s64",
      "userId": "06949155908663757402"
     },
     "user_tz": -330
    },
    "id": "47kde3Ibeoz4",
    "outputId": "f4b0ded4-571c-454a-9225-852f240e579a"
   },
   "outputs": [],
   "source": [
    "df = pd.read_csv(\"final_dataset.csv\")\n",
    "df.head(20)"
   ]
  },
  {
   "cell_type": "code",
   "execution_count": null,
   "metadata": {
    "colab": {
     "base_uri": "https://localhost:8080/",
     "height": 268
    },
    "colab_type": "code",
    "executionInfo": {
     "elapsed": 2832,
     "status": "ok",
     "timestamp": 1593748782247,
     "user": {
      "displayName": "Soham Tiwari",
      "photoUrl": "https://lh3.googleusercontent.com/a-/AOh14Gh1XnK9ngDR_60Sh8Rhl3BGjajGSILiyfjas_5XMg=s64",
      "userId": "06949155908663757402"
     },
     "user_tz": -330
    },
    "id": "O9hLhZB3eo0E",
    "outputId": "b24c187e-e40c-4743-c627-78b573c9966b"
   },
   "outputs": [],
   "source": [
    "#Visualization\n",
    "sarcastic=0\n",
    "for i in range(len(df[\"Text_Only_Informative\"])):\n",
    "    if df[\"Text_Only_Informative\"].iloc[i]==1:\n",
    "        sarcastic+=1\n",
    "normal=len(df[\"Text_Only_Informative\"])-sarcastic\n",
    "label_values={\"Text_Only_Informative \" : sarcastic, \"Non-Text_Only_Informative \" : normal}\n",
    "plt.bar(label_values.keys(),label_values.values(),align=\"center\")\n",
    "plt.ylabel(\"Number of Tweets\")\n",
    "plt.show()"
   ]
  },
  {
   "cell_type": "code",
   "execution_count": null,
   "metadata": {
    "colab": {
     "base_uri": "https://localhost:8080/",
     "height": 266
    },
    "colab_type": "code",
    "executionInfo": {
     "elapsed": 1206,
     "status": "ok",
     "timestamp": 1593748784506,
     "user": {
      "displayName": "Soham Tiwari",
      "photoUrl": "https://lh3.googleusercontent.com/a-/AOh14Gh1XnK9ngDR_60Sh8Rhl3BGjajGSILiyfjas_5XMg=s64",
      "userId": "06949155908663757402"
     },
     "user_tz": -330
    },
    "id": "uwIhFj6Ieo0M",
    "outputId": "457e5f5b-9d43-4803-a8a8-ba0603d48b5d"
   },
   "outputs": [],
   "source": [
    "#Visualization\n",
    "sarcastic=0\n",
    "for i in range(len(df[\"Image_Only_Informative\"])):\n",
    "    if df[\"Image_Only_Informative\"].iloc[i]==1:\n",
    "        sarcastic+=1\n",
    "normal=len(df[\"Image_Only_Informative\"])-sarcastic\n",
    "label_values={\"Image_Only_Informative \" : sarcastic, \"Non-Image_Only_Informative \" : normal}\n",
    "plt.bar(label_values.keys(),label_values.values(),align=\"center\")\n",
    "plt.ylabel(\"Number of Tweets\")\n",
    "plt.show()"
   ]
  },
  {
   "cell_type": "code",
   "execution_count": null,
   "metadata": {
    "colab": {
     "base_uri": "https://localhost:8080/",
     "height": 269
    },
    "colab_type": "code",
    "executionInfo": {
     "elapsed": 4001,
     "status": "ok",
     "timestamp": 1593748787428,
     "user": {
      "displayName": "Soham Tiwari",
      "photoUrl": "https://lh3.googleusercontent.com/a-/AOh14Gh1XnK9ngDR_60Sh8Rhl3BGjajGSILiyfjas_5XMg=s64",
      "userId": "06949155908663757402"
     },
     "user_tz": -330
    },
    "id": "-SV-tEYBeo0S",
    "outputId": "804b223b-f7a5-4120-e4c7-bd7a8fd55a51"
   },
   "outputs": [],
   "source": [
    "#Visualization\n",
    "sarcastic=0\n",
    "for i in range(len(df[\"Directed_Hate\"])):\n",
    "    if df[\"Directed_Hate\"].iloc[i]==1:\n",
    "        sarcastic+=1\n",
    "normal=len(df[\"Directed_Hate\"])-sarcastic\n",
    "label_values={\"Directed_Hate \" : sarcastic, \"Non-Directed_Hate \" : normal}\n",
    "plt.bar(label_values.keys(),label_values.values(),align=\"center\")\n",
    "plt.ylabel(\"Number of Tweets\")\n",
    "plt.show()"
   ]
  },
  {
   "cell_type": "code",
   "execution_count": null,
   "metadata": {
    "colab": {
     "base_uri": "https://localhost:8080/",
     "height": 266
    },
    "colab_type": "code",
    "executionInfo": {
     "elapsed": 3804,
     "status": "ok",
     "timestamp": 1593748787435,
     "user": {
      "displayName": "Soham Tiwari",
      "photoUrl": "https://lh3.googleusercontent.com/a-/AOh14Gh1XnK9ngDR_60Sh8Rhl3BGjajGSILiyfjas_5XMg=s64",
      "userId": "06949155908663757402"
     },
     "user_tz": -330
    },
    "id": "u-3D6Fljeo0a",
    "outputId": "e0ce86d7-2bd6-43bd-f163-04c52dd480dd"
   },
   "outputs": [],
   "source": [
    "#Visualization\n",
    "sarcastic=0\n",
    "for i in range(len(df[\"Generalized_Hate\"])):\n",
    "    if df[\"Generalized_Hate\"].iloc[i]==1:\n",
    "        sarcastic+=1\n",
    "normal=len(df[\"Generalized_Hate\"])-sarcastic\n",
    "label_values={\"Generalized_Hate \" : sarcastic, \"Non-Generalized_Hate \" : normal}\n",
    "plt.bar(label_values.keys(),label_values.values(),align=\"center\")\n",
    "plt.ylabel(\"Number of Tweets\")\n",
    "plt.show()"
   ]
  },
  {
   "cell_type": "code",
   "execution_count": null,
   "metadata": {
    "colab": {
     "base_uri": "https://localhost:8080/",
     "height": 282
    },
    "colab_type": "code",
    "executionInfo": {
     "elapsed": 3558,
     "status": "ok",
     "timestamp": 1593748787440,
     "user": {
      "displayName": "Soham Tiwari",
      "photoUrl": "https://lh3.googleusercontent.com/a-/AOh14Gh1XnK9ngDR_60Sh8Rhl3BGjajGSILiyfjas_5XMg=s64",
      "userId": "06949155908663757402"
     },
     "user_tz": -330
    },
    "id": "aT1Jw5xqeo0f",
    "outputId": "2b05be71-a963-496e-d046-88c0f693e9c3"
   },
   "outputs": [],
   "source": [
    "#Visualization\n",
    "sarcastic=0\n",
    "for i in range(len(df[\"Support\"])):\n",
    "    if df[\"Support\"].iloc[i]==1:\n",
    "        sarcastic+=1\n",
    "normal=len(df[\"Support\"])-sarcastic\n",
    "label_values={\"Support \" : sarcastic, \"Non-Support \" : normal}\n",
    "plt.bar(label_values.keys(),label_values.values(),align=\"center\")\n",
    "plt.ylabel(\"Number of Text\")\n",
    "plt.show()\n",
    "\n",
    "print (\"Class imbalance because of low class imbalance even though 60-40 dataset. But skewed data points\")"
   ]
  },
  {
   "cell_type": "code",
   "execution_count": null,
   "metadata": {
    "colab": {
     "base_uri": "https://localhost:8080/",
     "height": 300
    },
    "colab_type": "code",
    "executionInfo": {
     "elapsed": 1531,
     "status": "ok",
     "timestamp": 1593748792503,
     "user": {
      "displayName": "Soham Tiwari",
      "photoUrl": "https://lh3.googleusercontent.com/a-/AOh14Gh1XnK9ngDR_60Sh8Rhl3BGjajGSILiyfjas_5XMg=s64",
      "userId": "06949155908663757402"
     },
     "user_tz": -330
    },
    "id": "cZ24Wd6Ueo0k",
    "outputId": "c01fdf63-ace3-4216-bb41-4261f8f9e3ad"
   },
   "outputs": [],
   "source": [
    "#Visualization\n",
    "sarcastic=0\n",
    "for i in range(len(df[\"Allegation\"])):\n",
    "    if df[\"Allegation\"].iloc[i]==1:\n",
    "        sarcastic+=1\n",
    "normal=len(df[\"Allegation\"])-sarcastic\n",
    "label_values={\"Allegation \" : sarcastic, \"Non-Allegation \" : normal}\n",
    "plt.bar(label_values.keys(),label_values.values(),align=\"center\")\n",
    "plt.ylabel(\"Number of Tweets\")\n",
    "plt.show()\n",
    "\n",
    "print (\"Class Imbalance in 95-5. Accuracy not going above 98 even with ML approaches not going above 98.4.\")\n",
    "print (\"BiLSTM giving 97.65 aacuracy\")"
   ]
  },
  {
   "cell_type": "code",
   "execution_count": null,
   "metadata": {
    "colab": {
     "base_uri": "https://localhost:8080/",
     "height": 267
    },
    "colab_type": "code",
    "executionInfo": {
     "elapsed": 1202,
     "status": "ok",
     "timestamp": 1593748792505,
     "user": {
      "displayName": "Soham Tiwari",
      "photoUrl": "https://lh3.googleusercontent.com/a-/AOh14Gh1XnK9ngDR_60Sh8Rhl3BGjajGSILiyfjas_5XMg=s64",
      "userId": "06949155908663757402"
     },
     "user_tz": -330
    },
    "id": "_qXPXCfFeo0p",
    "outputId": "ad341779-2416-4284-ef30-c56bec5ddfaa"
   },
   "outputs": [],
   "source": [
    "#Visualization\n",
    "sarcastic=0\n",
    "#sarcastic is just a variable to keep count of class 1\n",
    "for i in range(len(df[\"Justification\"])):\n",
    "    if df[\"Justification\"].iloc[i]==1:\n",
    "        sarcastic+=1\n",
    "normal=len(df[\"Justification\"])-sarcastic\n",
    "label_values={\"Justification \" : sarcastic, \"Non-Justification \" : normal}\n",
    "plt.bar(label_values.keys(),label_values.values(),align=\"center\")\n",
    "plt.ylabel(\"Number of Tweets\")\n",
    "plt.show()"
   ]
  },
  {
   "cell_type": "code",
   "execution_count": null,
   "metadata": {
    "colab": {
     "base_uri": "https://localhost:8080/",
     "height": 265
    },
    "colab_type": "code",
    "executionInfo": {
     "elapsed": 1417,
     "status": "ok",
     "timestamp": 1593748793175,
     "user": {
      "displayName": "Soham Tiwari",
      "photoUrl": "https://lh3.googleusercontent.com/a-/AOh14Gh1XnK9ngDR_60Sh8Rhl3BGjajGSILiyfjas_5XMg=s64",
      "userId": "06949155908663757402"
     },
     "user_tz": -330
    },
    "id": "hyawmg-Meo0v",
    "outputId": "2707dfdc-9a40-4e7a-c7cf-0e98592e811e"
   },
   "outputs": [],
   "source": [
    "#Visualization\n",
    "sarcastic=0\n",
    "for i in range(len(df[\"Refutation\"])):\n",
    "    if df[\"Refutation\"].iloc[i]==1:\n",
    "        sarcastic+=1\n",
    "normal=len(df[\"Refutation\"])-sarcastic\n",
    "label_values={\"Refutation \" : sarcastic, \"Non-Refutation \" : normal}\n",
    "plt.bar(label_values.keys(),label_values.values(),align=\"center\")\n",
    "plt.ylabel(\"Number of Tweets\")\n",
    "plt.show()"
   ]
  },
  {
   "cell_type": "code",
   "execution_count": null,
   "metadata": {
    "colab": {
     "base_uri": "https://localhost:8080/",
     "height": 265
    },
    "colab_type": "code",
    "executionInfo": {
     "elapsed": 1235,
     "status": "ok",
     "timestamp": 1593748793607,
     "user": {
      "displayName": "Soham Tiwari",
      "photoUrl": "https://lh3.googleusercontent.com/a-/AOh14Gh1XnK9ngDR_60Sh8Rhl3BGjajGSILiyfjas_5XMg=s64",
      "userId": "06949155908663757402"
     },
     "user_tz": -330
    },
    "id": "dxlmH2q3eo00",
    "outputId": "77f794bd-6e4f-403c-9ebb-2f002e6e2d92"
   },
   "outputs": [],
   "source": [
    "#Visualization\n",
    "sarcastic=0\n",
    "for i in range(len(df[\"Support\"])):\n",
    "    if df[\"Support\"].iloc[i]==1:\n",
    "        sarcastic+=1\n",
    "normal=len(df[\"Support\"])-sarcastic\n",
    "label_values={\"Support \" : sarcastic, \"Non-Support \" : normal}\n",
    "plt.bar(label_values.keys(),label_values.values(),align=\"center\")\n",
    "plt.ylabel(\"Number of Tweets\")\n",
    "plt.show()"
   ]
  },
  {
   "cell_type": "code",
   "execution_count": null,
   "metadata": {
    "colab": {
     "base_uri": "https://localhost:8080/",
     "height": 265
    },
    "colab_type": "code",
    "executionInfo": {
     "elapsed": 8815,
     "status": "ok",
     "timestamp": 1593505494867,
     "user": {
      "displayName": "Soham Tiwari",
      "photoUrl": "https://lh3.googleusercontent.com/a-/AOh14Gh1XnK9ngDR_60Sh8Rhl3BGjajGSILiyfjas_5XMg=s64",
      "userId": "06949155908663757402"
     },
     "user_tz": -330
    },
    "id": "iJl3gOLueo06",
    "outputId": "8fc09b49-ffe4-4892-add8-33f6c1995367"
   },
   "outputs": [],
   "source": [
    "#Visualization\n",
    "sarcastic=0\n",
    "for i in range(len(df[\"Oppose\"])):\n",
    "    if df[\"Oppose\"].iloc[i]==1:\n",
    "        sarcastic+=1\n",
    "normal=len(df[\"Oppose\"])-sarcastic\n",
    "label_values={\"Oppose \" : sarcastic, \"Non-Oppose \" : normal}\n",
    "plt.bar(label_values.keys(),label_values.values(),align=\"center\")\n",
    "plt.ylabel(\"Number of Tweets\")\n",
    "plt.show()"
   ]
  },
  {
   "cell_type": "code",
   "execution_count": null,
   "metadata": {
    "colab": {
     "base_uri": "https://localhost:8080/",
     "height": 104
    },
    "colab_type": "code",
    "executionInfo": {
     "elapsed": 2555,
     "status": "ok",
     "timestamp": 1593748910176,
     "user": {
      "displayName": "Soham Tiwari",
      "photoUrl": "https://lh3.googleusercontent.com/a-/AOh14Gh1XnK9ngDR_60Sh8Rhl3BGjajGSILiyfjas_5XMg=s64",
      "userId": "06949155908663757402"
     },
     "user_tz": -330
    },
    "id": "11dtkzA6eo0_",
    "outputId": "eb0f730a-86e1-4046-dc7c-5fd1f9a36680"
   },
   "outputs": [],
   "source": [
    "for i,tweet in enumerate(df.text):\n",
    "    import re\n",
    "    tweet = re.sub(r'https?:\\/\\/(www\\.)?[-a-zA-Z0–9@:%._\\+~#=]{2,256}\\.[a-z]{2,6}\\b([-a-zA-Z0–9@:%_\\+.~#?&//=]*)', '' , tweet, flags=re.MULTILINE)\n",
    "    tweet = re.sub(r'\\n', ' ', tweet, flags=re.MULTILINE)\n",
    "    df.text[i] = tweet"
   ]
  },
  {
   "cell_type": "code",
   "execution_count": null,
   "metadata": {
    "colab": {
     "base_uri": "https://localhost:8080/",
     "height": 104
    },
    "colab_type": "code",
    "executionInfo": {
     "elapsed": 2813,
     "status": "ok",
     "timestamp": 1593748912051,
     "user": {
      "displayName": "Soham Tiwari",
      "photoUrl": "https://lh3.googleusercontent.com/a-/AOh14Gh1XnK9ngDR_60Sh8Rhl3BGjajGSILiyfjas_5XMg=s64",
      "userId": "06949155908663757402"
     },
     "user_tz": -330
    },
    "id": "mO6F21greo1F",
    "outputId": "3331c72b-6c47-4869-8563-b1c5a5f16eb4"
   },
   "outputs": [],
   "source": [
    "for i,tweet in enumerate(df.text):\n",
    "    import re\n",
    "    tweet = re.sub(r'https?:\\/\\/(www\\.)?[-a-zA-Z0–9@:%._\\+~#=]{2,256}\\.[a-z]{2,6}\\b([-a-zA-Z0–9@:%_\\+.~#?&//=]*)', '' , tweet, flags=re.MULTILINE)\n",
    "    tweet = re.sub(r'[-a-zA-Z0–9@:%._\\+~#=]{2,256}\\.[a-z]{2,6}\\b([-a-zA-Z0–9@:%_\\+.~#?&//=]*)', '', tweet, flags=re.MULTILINE)\n",
    "    df.text[i] = tweet"
   ]
  },
  {
   "cell_type": "code",
   "execution_count": null,
   "metadata": {
    "colab": {
     "base_uri": "https://localhost:8080/",
     "height": 1000
    },
    "colab_type": "code",
    "executionInfo": {
     "elapsed": 2694,
     "status": "ok",
     "timestamp": 1593748916137,
     "user": {
      "displayName": "Soham Tiwari",
      "photoUrl": "https://lh3.googleusercontent.com/a-/AOh14Gh1XnK9ngDR_60Sh8Rhl3BGjajGSILiyfjas_5XMg=s64",
      "userId": "06949155908663757402"
     },
     "user_tz": -330
    },
    "id": "BICkAX5peo1K",
    "outputId": "55f44423-ca2d-4c78-a697-450f30ec6c11"
   },
   "outputs": [],
   "source": [
    "df.head(20)"
   ]
  },
  {
   "cell_type": "code",
   "execution_count": null,
   "metadata": {
    "colab": {
     "base_uri": "https://localhost:8080/",
     "height": 104
    },
    "colab_type": "code",
    "executionInfo": {
     "elapsed": 1576,
     "status": "ok",
     "timestamp": 1593748925433,
     "user": {
      "displayName": "Soham Tiwari",
      "photoUrl": "https://lh3.googleusercontent.com/a-/AOh14Gh1XnK9ngDR_60Sh8Rhl3BGjajGSILiyfjas_5XMg=s64",
      "userId": "06949155908663757402"
     },
     "user_tz": -330
    },
    "id": "CxAMaeyyeo1O",
    "outputId": "9a8c180b-668a-4d5e-97df-4edabd813188"
   },
   "outputs": [],
   "source": [
    "for i,tweet in enumerate(df.text):\n",
    "    #Remove hyperlinks\n",
    "    #Removing links from all tweets gathered from scraping the data\n",
    "    temp = re.sub(r'https?:\\/\\/.*\\/[a-zA-Z0-9]*', '', tweet)\n",
    "    df.text[i] = temp"
   ]
  },
  {
   "cell_type": "code",
   "execution_count": null,
   "metadata": {
    "colab": {
     "base_uri": "https://localhost:8080/",
     "height": 641
    },
    "colab_type": "code",
    "executionInfo": {
     "elapsed": 900,
     "status": "ok",
     "timestamp": 1593748925442,
     "user": {
      "displayName": "Soham Tiwari",
      "photoUrl": "https://lh3.googleusercontent.com/a-/AOh14Gh1XnK9ngDR_60Sh8Rhl3BGjajGSILiyfjas_5XMg=s64",
      "userId": "06949155908663757402"
     },
     "user_tz": -330
    },
    "id": "rIGmRY9geo1T",
    "outputId": "0b0beeca-cd52-479f-d7a1-aee2d6d2745b"
   },
   "outputs": [],
   "source": [
    "df.head(10)\n",
    "#Text be moving even though checkpoint is reached "
   ]
  },
  {
   "cell_type": "code",
   "execution_count": null,
   "metadata": {
    "colab": {
     "base_uri": "https://localhost:8080/",
     "height": 36
    },
    "colab_type": "code",
    "executionInfo": {
     "elapsed": 1163,
     "status": "ok",
     "timestamp": 1593748929936,
     "user": {
      "displayName": "Soham Tiwari",
      "photoUrl": "https://lh3.googleusercontent.com/a-/AOh14Gh1XnK9ngDR_60Sh8Rhl3BGjajGSILiyfjas_5XMg=s64",
      "userId": "06949155908663757402"
     },
     "user_tz": -330
    },
    "id": "hHKz4KNueo1X",
    "outputId": "b34622cc-036c-4955-f556-8da7626fa4b7"
   },
   "outputs": [],
   "source": [
    "(string.punctuation)"
   ]
  },
  {
   "cell_type": "code",
   "execution_count": null,
   "metadata": {
    "colab": {},
    "colab_type": "code",
    "executionInfo": {
     "elapsed": 877,
     "status": "ok",
     "timestamp": 1593748931831,
     "user": {
      "displayName": "Soham Tiwari",
      "photoUrl": "https://lh3.googleusercontent.com/a-/AOh14Gh1XnK9ngDR_60Sh8Rhl3BGjajGSILiyfjas_5XMg=s64",
      "userId": "06949155908663757402"
     },
     "user_tz": -330
    },
    "id": "l5PhjOD4UXM3"
   },
   "outputs": [],
   "source": [
    "line = \"1234567 7852853427.111 https://en.wikipedia.org/wiki/Dictionary_(disambiguation)\""
   ]
  },
  {
   "cell_type": "code",
   "execution_count": null,
   "metadata": {
    "colab": {
     "base_uri": "https://localhost:8080/",
     "height": 34
    },
    "colab_type": "code",
    "executionInfo": {
     "elapsed": 1604,
     "status": "ok",
     "timestamp": 1593748932799,
     "user": {
      "displayName": "Soham Tiwari",
      "photoUrl": "https://lh3.googleusercontent.com/a-/AOh14Gh1XnK9ngDR_60Sh8Rhl3BGjajGSILiyfjas_5XMg=s64",
      "userId": "06949155908663757402"
     },
     "user_tz": -330
    },
    "id": "p_LTn15GUbH7",
    "outputId": "b3a8bfcf-1eab-483a-e37e-063b16abfcb2"
   },
   "outputs": [],
   "source": [
    "print(re.sub(r'\\b\\d+(?:\\.\\d+)?\\s+', '', line))"
   ]
  },
  {
   "cell_type": "code",
   "execution_count": null,
   "metadata": {
    "colab": {
     "base_uri": "https://localhost:8080/",
     "height": 641
    },
    "colab_type": "code",
    "executionInfo": {
     "elapsed": 1087,
     "status": "ok",
     "timestamp": 1593748932805,
     "user": {
      "displayName": "Soham Tiwari",
      "photoUrl": "https://lh3.googleusercontent.com/a-/AOh14Gh1XnK9ngDR_60Sh8Rhl3BGjajGSILiyfjas_5XMg=s64",
      "userId": "06949155908663757402"
     },
     "user_tz": -330
    },
    "id": "DOtsc3Eceo1b",
    "outputId": "75dcebaf-08b4-4486-b60b-b66557ac0bde"
   },
   "outputs": [],
   "source": [
    "string_punctuation2='!\"#$%&\\()*+-/:;<=>?@[\\\\]^_`{|}~'\n",
    "def remove_punct(text):\n",
    "    text  = \"\".join([char for char in text if char not in string_punctuation2])\n",
    "    text = re.sub(r'\\b\\d+(?:\\.\\d+)?\\s+', '', text)\n",
    "    return text\n",
    "\n",
    "df['text'] = df['text'].apply(lambda x: remove_punct(x))\n",
    "df.head(10)"
   ]
  },
  {
   "cell_type": "code",
   "execution_count": null,
   "metadata": {
    "colab": {},
    "colab_type": "code",
    "executionInfo": {
     "elapsed": 1008,
     "status": "ok",
     "timestamp": 1593748937958,
     "user": {
      "displayName": "Soham Tiwari",
      "photoUrl": "https://lh3.googleusercontent.com/a-/AOh14Gh1XnK9ngDR_60Sh8Rhl3BGjajGSILiyfjas_5XMg=s64",
      "userId": "06949155908663757402"
     },
     "user_tz": -330
    },
    "id": "PEbK3RNreo1e"
   },
   "outputs": [],
   "source": [
    "def tokenization(text):\n",
    "    text = re.split('\\W+', text)\n",
    "    return text\n",
    "\n",
    "# df['text'] = df['text'].apply(lambda x: tokenization(x.lower()))\n",
    "# df.head(10)"
   ]
  },
  {
   "cell_type": "code",
   "execution_count": null,
   "metadata": {
    "colab": {
     "base_uri": "https://localhost:8080/",
     "height": 69
    },
    "colab_type": "code",
    "executionInfo": {
     "elapsed": 712,
     "status": "ok",
     "timestamp": 1593748938611,
     "user": {
      "displayName": "Soham Tiwari",
      "photoUrl": "https://lh3.googleusercontent.com/a-/AOh14Gh1XnK9ngDR_60Sh8Rhl3BGjajGSILiyfjas_5XMg=s64",
      "userId": "06949155908663757402"
     },
     "user_tz": -330
    },
    "id": "5ZxnbDVoi520",
    "outputId": "79141421-5db7-478c-9fa3-f3e1f9fea749"
   },
   "outputs": [],
   "source": [
    "nltk.download('stopwords')"
   ]
  },
  {
   "cell_type": "code",
   "execution_count": null,
   "metadata": {
    "colab": {
     "base_uri": "https://localhost:8080/",
     "height": 641
    },
    "colab_type": "code",
    "executionInfo": {
     "elapsed": 1445,
     "status": "ok",
     "timestamp": 1593748940276,
     "user": {
      "displayName": "Soham Tiwari",
      "photoUrl": "https://lh3.googleusercontent.com/a-/AOh14Gh1XnK9ngDR_60Sh8Rhl3BGjajGSILiyfjas_5XMg=s64",
      "userId": "06949155908663757402"
     },
     "user_tz": -330
    },
    "id": "APEPOHLGeo1j",
    "outputId": "6f26f58f-5fa6-4b24-c921-30cf4b19ac42"
   },
   "outputs": [],
   "source": [
    "stopword = nltk.corpus.stopwords.words('english')\n",
    "def remove_stopwords(text):\n",
    "    text = [word for word in text if word not in stopword]\n",
    "    return text\n",
    "separator=' '\n",
    "df['text'] = df['text'].apply(lambda x: separator.join(remove_stopwords(tokenization(x.lower()))))\n",
    "df.head(10)"
   ]
  },
  {
   "cell_type": "code",
   "execution_count": null,
   "metadata": {
    "colab": {},
    "colab_type": "code",
    "executionInfo": {
     "elapsed": 1353,
     "status": "ok",
     "timestamp": 1593748955828,
     "user": {
      "displayName": "Soham Tiwari",
      "photoUrl": "https://lh3.googleusercontent.com/a-/AOh14Gh1XnK9ngDR_60Sh8Rhl3BGjajGSILiyfjas_5XMg=s64",
      "userId": "06949155908663757402"
     },
     "user_tz": -330
    },
    "id": "zqwR3Zzweo1p"
   },
   "outputs": [],
   "source": [
    "# ps = nltk.PorterStemmer()\n",
    "\n",
    "# def stemming(text):\n",
    "#     text = [ps.stem(word) for word in text]\n",
    "#     return text\n",
    "\n",
    "# df['text'] = df['text'].apply(lambda x: stemming(x))\n",
    "# df.head(10)"
   ]
  },
  {
   "cell_type": "code",
   "execution_count": null,
   "metadata": {
    "colab": {
     "base_uri": "https://localhost:8080/",
     "height": 69
    },
    "colab_type": "code",
    "executionInfo": {
     "elapsed": 1622,
     "status": "ok",
     "timestamp": 1593748956340,
     "user": {
      "displayName": "Soham Tiwari",
      "photoUrl": "https://lh3.googleusercontent.com/a-/AOh14Gh1XnK9ngDR_60Sh8Rhl3BGjajGSILiyfjas_5XMg=s64",
      "userId": "06949155908663757402"
     },
     "user_tz": -330
    },
    "id": "dELenLKPk5BS",
    "outputId": "e8535450-9e94-41f4-80b8-80132a7a0826"
   },
   "outputs": [],
   "source": [
    "nltk.download('wordnet')"
   ]
  },
  {
   "cell_type": "code",
   "execution_count": null,
   "metadata": {
    "colab": {
     "base_uri": "https://localhost:8080/",
     "height": 641
    },
    "colab_type": "code",
    "executionInfo": {
     "elapsed": 3564,
     "status": "ok",
     "timestamp": 1593748958604,
     "user": {
      "displayName": "Soham Tiwari",
      "photoUrl": "https://lh3.googleusercontent.com/a-/AOh14Gh1XnK9ngDR_60Sh8Rhl3BGjajGSILiyfjas_5XMg=s64",
      "userId": "06949155908663757402"
     },
     "user_tz": -330
    },
    "id": "9LSG-KUReo1t",
    "outputId": "ab2a87af-5e9b-4dfd-a492-3dcb39bf399d"
   },
   "outputs": [],
   "source": [
    "wn = nltk.WordNetLemmatizer()\n",
    "\n",
    "def lemmatizer(text):\n",
    "    text = [wn.lemmatize(word) for word in text]\n",
    "    return text\n",
    "\n",
    "df['text'] = df['text'].apply(lambda x: separator.join(lemmatizer(tokenization(x))))\n",
    "# type(df['text'].apply(lambda x: lemmatizer(tokenization(x))).head(10)[0])\n",
    "df.head(10)"
   ]
  },
  {
   "cell_type": "code",
   "execution_count": null,
   "metadata": {
    "colab": {},
    "colab_type": "code",
    "executionInfo": {
     "elapsed": 1608,
     "status": "ok",
     "timestamp": 1593749106060,
     "user": {
      "displayName": "Soham Tiwari",
      "photoUrl": "https://lh3.googleusercontent.com/a-/AOh14Gh1XnK9ngDR_60Sh8Rhl3BGjajGSILiyfjas_5XMg=s64",
      "userId": "06949155908663757402"
     },
     "user_tz": -330
    },
    "id": "doSspJ2e12-F"
   },
   "outputs": [],
   "source": [
    "temp = df['text']\n",
    "temp2=[]\n",
    "for s in temp:\n",
    "    temp2+=[str(type(s))]"
   ]
  },
  {
   "cell_type": "code",
   "execution_count": null,
   "metadata": {
    "colab": {},
    "colab_type": "code",
    "executionInfo": {
     "elapsed": 2962,
     "status": "ok",
     "timestamp": 1593750141460,
     "user": {
      "displayName": "Soham Tiwari",
      "photoUrl": "https://lh3.googleusercontent.com/a-/AOh14Gh1XnK9ngDR_60Sh8Rhl3BGjajGSILiyfjas_5XMg=s64",
      "userId": "06949155908663757402"
     },
     "user_tz": -330
    },
    "id": "RT8PbsWQ57-f"
   },
   "outputs": [],
   "source": [
    "i = 0\n",
    "for tmp in temp:\n",
    "    if(str(type(tmp))==\"<class 'float'>\"):\n",
    "        print(i, tmp)\n",
    "    i+=1"
   ]
  },
  {
   "cell_type": "code",
   "execution_count": null,
   "metadata": {
    "colab": {
     "base_uri": "https://localhost:8080/",
     "height": 34
    },
    "colab_type": "code",
    "executionInfo": {
     "elapsed": 2048,
     "status": "ok",
     "timestamp": 1593749106546,
     "user": {
      "displayName": "Soham Tiwari",
      "photoUrl": "https://lh3.googleusercontent.com/a-/AOh14Gh1XnK9ngDR_60Sh8Rhl3BGjajGSILiyfjas_5XMg=s64",
      "userId": "06949155908663757402"
     },
     "user_tz": -330
    },
    "id": "lmU06kB92H2u",
    "outputId": "fc849fc4-7416-4a3e-93d8-9f287e47b624"
   },
   "outputs": [],
   "source": [
    "import numpy as np\n",
    "np.unique(temp2)"
   ]
  },
  {
   "cell_type": "code",
   "execution_count": null,
   "metadata": {
    "colab": {},
    "colab_type": "code",
    "id": "iyDdmNqSeo1x"
   },
   "outputs": [],
   "source": [
    "# df.to_csv(\"clean_datav4.csv\")"
   ]
  },
  {
   "cell_type": "code",
   "execution_count": null,
   "metadata": {
    "colab": {
     "base_uri": "https://localhost:8080/",
     "height": 86
    },
    "colab_type": "code",
    "executionInfo": {
     "elapsed": 19664,
     "status": "ok",
     "timestamp": 1593505505854,
     "user": {
      "displayName": "Soham Tiwari",
      "photoUrl": "https://lh3.googleusercontent.com/a-/AOh14Gh1XnK9ngDR_60Sh8Rhl3BGjajGSILiyfjas_5XMg=s64",
      "userId": "06949155908663757402"
     },
     "user_tz": -330
    },
    "id": "0wo08lVzeo11",
    "outputId": "794fd2c7-0882-48e4-ab01-270c2ae27672"
   },
   "outputs": [],
   "source": [
    "%ls"
   ]
  },
  {
   "cell_type": "code",
   "execution_count": null,
   "metadata": {
    "colab": {},
    "colab_type": "code",
    "id": "4G3LWwUarWcD"
   },
   "outputs": [],
   "source": []
  }
 ],
 "metadata": {
  "colab": {
   "collapsed_sections": [],
   "name": "Data_clean.ipynb",
   "provenance": []
  },
  "kernelspec": {
   "display_name": "Python 3",
   "language": "python",
   "name": "python3"
  },
  "language_info": {
   "codemirror_mode": {
    "name": "ipython",
    "version": 3
   },
   "file_extension": ".py",
   "mimetype": "text/x-python",
   "name": "python",
   "nbconvert_exporter": "python",
   "pygments_lexer": "ipython3",
   "version": "3.7.6"
  }
 },
 "nbformat": 4,
 "nbformat_minor": 1
}
