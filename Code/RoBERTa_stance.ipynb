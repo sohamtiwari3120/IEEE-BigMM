{
  "nbformat": 4,
  "nbformat_minor": 0,
  "metadata": {
    "colab": {
      "name": "RoBERTa stance.ipynb",
      "provenance": [],
      "collapsed_sections": []
    },
    "kernelspec": {
      "name": "python3",
      "display_name": "Python 3"
    },
    "accelerator": "GPU",
    "widgets": {
      "application/vnd.jupyter.widget-state+json": {
        "0e87e39f7493469484703ff7dd6aef78": {
          "model_module": "@jupyter-widgets/controls",
          "model_name": "HBoxModel",
          "state": {
            "_view_name": "HBoxView",
            "_dom_classes": [],
            "_model_name": "HBoxModel",
            "_view_module": "@jupyter-widgets/controls",
            "_model_module_version": "1.5.0",
            "_view_count": null,
            "_view_module_version": "1.5.0",
            "box_style": "",
            "layout": "IPY_MODEL_944145241c474c7d96acef0d59602dbb",
            "_model_module": "@jupyter-widgets/controls",
            "children": [
              "IPY_MODEL_c72300a60e694bc7b60704ba9b7fb39b",
              "IPY_MODEL_7756f165ef424fe591c0655d148e0443"
            ]
          }
        },
        "944145241c474c7d96acef0d59602dbb": {
          "model_module": "@jupyter-widgets/base",
          "model_name": "LayoutModel",
          "state": {
            "_view_name": "LayoutView",
            "grid_template_rows": null,
            "right": null,
            "justify_content": null,
            "_view_module": "@jupyter-widgets/base",
            "overflow": null,
            "_model_module_version": "1.2.0",
            "_view_count": null,
            "flex_flow": null,
            "width": null,
            "min_width": null,
            "border": null,
            "align_items": null,
            "bottom": null,
            "_model_module": "@jupyter-widgets/base",
            "top": null,
            "grid_column": null,
            "overflow_y": null,
            "overflow_x": null,
            "grid_auto_flow": null,
            "grid_area": null,
            "grid_template_columns": null,
            "flex": null,
            "_model_name": "LayoutModel",
            "justify_items": null,
            "grid_row": null,
            "max_height": null,
            "align_content": null,
            "visibility": null,
            "align_self": null,
            "height": null,
            "min_height": null,
            "padding": null,
            "grid_auto_rows": null,
            "grid_gap": null,
            "max_width": null,
            "order": null,
            "_view_module_version": "1.2.0",
            "grid_template_areas": null,
            "object_position": null,
            "object_fit": null,
            "grid_auto_columns": null,
            "margin": null,
            "display": null,
            "left": null
          }
        },
        "c72300a60e694bc7b60704ba9b7fb39b": {
          "model_module": "@jupyter-widgets/controls",
          "model_name": "FloatProgressModel",
          "state": {
            "_view_name": "ProgressView",
            "style": "IPY_MODEL_6698cff3cdf1410191973dc9b8041733",
            "_dom_classes": [],
            "description": "100%",
            "_model_name": "FloatProgressModel",
            "bar_style": "success",
            "max": 3,
            "_view_module": "@jupyter-widgets/controls",
            "_model_module_version": "1.5.0",
            "value": 3,
            "_view_count": null,
            "_view_module_version": "1.5.0",
            "orientation": "horizontal",
            "min": 0,
            "description_tooltip": null,
            "_model_module": "@jupyter-widgets/controls",
            "layout": "IPY_MODEL_20b179a458344d63b30a6af91243a6e4"
          }
        },
        "7756f165ef424fe591c0655d148e0443": {
          "model_module": "@jupyter-widgets/controls",
          "model_name": "HTMLModel",
          "state": {
            "_view_name": "HTMLView",
            "style": "IPY_MODEL_d0a5ec272f78461e918ec584a644990a",
            "_dom_classes": [],
            "description": "",
            "_model_name": "HTMLModel",
            "placeholder": "​",
            "_view_module": "@jupyter-widgets/controls",
            "_model_module_version": "1.5.0",
            "value": " 3/3 [55:55&lt;00:00, 1118.57s/it]",
            "_view_count": null,
            "_view_module_version": "1.5.0",
            "description_tooltip": null,
            "_model_module": "@jupyter-widgets/controls",
            "layout": "IPY_MODEL_515f11ff87f24ee68939cb88a50be8b6"
          }
        },
        "6698cff3cdf1410191973dc9b8041733": {
          "model_module": "@jupyter-widgets/controls",
          "model_name": "ProgressStyleModel",
          "state": {
            "_view_name": "StyleView",
            "_model_name": "ProgressStyleModel",
            "description_width": "initial",
            "_view_module": "@jupyter-widgets/base",
            "_model_module_version": "1.5.0",
            "_view_count": null,
            "_view_module_version": "1.2.0",
            "bar_color": null,
            "_model_module": "@jupyter-widgets/controls"
          }
        },
        "20b179a458344d63b30a6af91243a6e4": {
          "model_module": "@jupyter-widgets/base",
          "model_name": "LayoutModel",
          "state": {
            "_view_name": "LayoutView",
            "grid_template_rows": null,
            "right": null,
            "justify_content": null,
            "_view_module": "@jupyter-widgets/base",
            "overflow": null,
            "_model_module_version": "1.2.0",
            "_view_count": null,
            "flex_flow": null,
            "width": null,
            "min_width": null,
            "border": null,
            "align_items": null,
            "bottom": null,
            "_model_module": "@jupyter-widgets/base",
            "top": null,
            "grid_column": null,
            "overflow_y": null,
            "overflow_x": null,
            "grid_auto_flow": null,
            "grid_area": null,
            "grid_template_columns": null,
            "flex": null,
            "_model_name": "LayoutModel",
            "justify_items": null,
            "grid_row": null,
            "max_height": null,
            "align_content": null,
            "visibility": null,
            "align_self": null,
            "height": null,
            "min_height": null,
            "padding": null,
            "grid_auto_rows": null,
            "grid_gap": null,
            "max_width": null,
            "order": null,
            "_view_module_version": "1.2.0",
            "grid_template_areas": null,
            "object_position": null,
            "object_fit": null,
            "grid_auto_columns": null,
            "margin": null,
            "display": null,
            "left": null
          }
        },
        "d0a5ec272f78461e918ec584a644990a": {
          "model_module": "@jupyter-widgets/controls",
          "model_name": "DescriptionStyleModel",
          "state": {
            "_view_name": "StyleView",
            "_model_name": "DescriptionStyleModel",
            "description_width": "",
            "_view_module": "@jupyter-widgets/base",
            "_model_module_version": "1.5.0",
            "_view_count": null,
            "_view_module_version": "1.2.0",
            "_model_module": "@jupyter-widgets/controls"
          }
        },
        "515f11ff87f24ee68939cb88a50be8b6": {
          "model_module": "@jupyter-widgets/base",
          "model_name": "LayoutModel",
          "state": {
            "_view_name": "LayoutView",
            "grid_template_rows": null,
            "right": null,
            "justify_content": null,
            "_view_module": "@jupyter-widgets/base",
            "overflow": null,
            "_model_module_version": "1.2.0",
            "_view_count": null,
            "flex_flow": null,
            "width": null,
            "min_width": null,
            "border": null,
            "align_items": null,
            "bottom": null,
            "_model_module": "@jupyter-widgets/base",
            "top": null,
            "grid_column": null,
            "overflow_y": null,
            "overflow_x": null,
            "grid_auto_flow": null,
            "grid_area": null,
            "grid_template_columns": null,
            "flex": null,
            "_model_name": "LayoutModel",
            "justify_items": null,
            "grid_row": null,
            "max_height": null,
            "align_content": null,
            "visibility": null,
            "align_self": null,
            "height": null,
            "min_height": null,
            "padding": null,
            "grid_auto_rows": null,
            "grid_gap": null,
            "max_width": null,
            "order": null,
            "_view_module_version": "1.2.0",
            "grid_template_areas": null,
            "object_position": null,
            "object_fit": null,
            "grid_auto_columns": null,
            "margin": null,
            "display": null,
            "left": null
          }
        }
      }
    }
  },
  "cells": [
    {
      "cell_type": "code",
      "metadata": {
        "id": "WBL6oqIJL-DT",
        "colab_type": "code",
        "colab": {}
      },
      "source": [
        "import pandas as pd\n",
        "import numpy as np\n",
        "import json, re\n",
        "import tqdm #for visualisation of loops\n",
        "from uuid import uuid4 #to generate unique ids\n",
        "\n",
        "import torch\n",
        "import torch.optim as optim\n",
        "import torch.nn as nn\n",
        "import torch.nn.functional as F\n",
        "# from torch.autograd import Variable (deprecated)\n",
        "from torch.utils.data import Dataset, DataLoader\n"
      ],
      "execution_count": 1,
      "outputs": []
    },
    {
      "cell_type": "code",
      "metadata": {
        "id": "DOQ12n4cWu8M",
        "colab_type": "code",
        "colab": {
          "base_uri": "https://localhost:8080/",
          "height": 419
        },
        "outputId": "a8f70a87-dc9e-4ac5-de6c-edc988986099"
      },
      "source": [
        "!pip install pytorch-transformers"
      ],
      "execution_count": 2,
      "outputs": [
        {
          "output_type": "stream",
          "text": [
            "Requirement already satisfied: pytorch-transformers in /usr/local/lib/python3.6/dist-packages (1.2.0)\n",
            "Requirement already satisfied: sacremoses in /usr/local/lib/python3.6/dist-packages (from pytorch-transformers) (0.0.43)\n",
            "Requirement already satisfied: numpy in /usr/local/lib/python3.6/dist-packages (from pytorch-transformers) (1.18.5)\n",
            "Requirement already satisfied: boto3 in /usr/local/lib/python3.6/dist-packages (from pytorch-transformers) (1.14.9)\n",
            "Requirement already satisfied: torch>=1.0.0 in /usr/local/lib/python3.6/dist-packages (from pytorch-transformers) (1.5.1+cu101)\n",
            "Requirement already satisfied: sentencepiece in /usr/local/lib/python3.6/dist-packages (from pytorch-transformers) (0.1.91)\n",
            "Requirement already satisfied: requests in /usr/local/lib/python3.6/dist-packages (from pytorch-transformers) (2.23.0)\n",
            "Requirement already satisfied: tqdm in /usr/local/lib/python3.6/dist-packages (from pytorch-transformers) (4.41.1)\n",
            "Requirement already satisfied: regex in /usr/local/lib/python3.6/dist-packages (from pytorch-transformers) (2019.12.20)\n",
            "Requirement already satisfied: six in /usr/local/lib/python3.6/dist-packages (from sacremoses->pytorch-transformers) (1.12.0)\n",
            "Requirement already satisfied: click in /usr/local/lib/python3.6/dist-packages (from sacremoses->pytorch-transformers) (7.1.2)\n",
            "Requirement already satisfied: joblib in /usr/local/lib/python3.6/dist-packages (from sacremoses->pytorch-transformers) (0.15.1)\n",
            "Requirement already satisfied: jmespath<1.0.0,>=0.7.1 in /usr/local/lib/python3.6/dist-packages (from boto3->pytorch-transformers) (0.10.0)\n",
            "Requirement already satisfied: botocore<1.18.0,>=1.17.9 in /usr/local/lib/python3.6/dist-packages (from boto3->pytorch-transformers) (1.17.9)\n",
            "Requirement already satisfied: s3transfer<0.4.0,>=0.3.0 in /usr/local/lib/python3.6/dist-packages (from boto3->pytorch-transformers) (0.3.3)\n",
            "Requirement already satisfied: future in /usr/local/lib/python3.6/dist-packages (from torch>=1.0.0->pytorch-transformers) (0.16.0)\n",
            "Requirement already satisfied: chardet<4,>=3.0.2 in /usr/local/lib/python3.6/dist-packages (from requests->pytorch-transformers) (3.0.4)\n",
            "Requirement already satisfied: urllib3!=1.25.0,!=1.25.1,<1.26,>=1.21.1 in /usr/local/lib/python3.6/dist-packages (from requests->pytorch-transformers) (1.24.3)\n",
            "Requirement already satisfied: certifi>=2017.4.17 in /usr/local/lib/python3.6/dist-packages (from requests->pytorch-transformers) (2020.6.20)\n",
            "Requirement already satisfied: idna<3,>=2.5 in /usr/local/lib/python3.6/dist-packages (from requests->pytorch-transformers) (2.9)\n",
            "Requirement already satisfied: docutils<0.16,>=0.10 in /usr/local/lib/python3.6/dist-packages (from botocore<1.18.0,>=1.17.9->boto3->pytorch-transformers) (0.15.2)\n",
            "Requirement already satisfied: python-dateutil<3.0.0,>=2.1 in /usr/local/lib/python3.6/dist-packages (from botocore<1.18.0,>=1.17.9->boto3->pytorch-transformers) (2.8.1)\n"
          ],
          "name": "stdout"
        }
      ]
    },
    {
      "cell_type": "code",
      "metadata": {
        "id": "eYWV12S8Wxyp",
        "colab_type": "code",
        "colab": {}
      },
      "source": [
        "from pytorch_transformers import RobertaModel, RobertaTokenizer\n",
        "from pytorch_transformers import RobertaForSequenceClassification, RobertaConfig"
      ],
      "execution_count": 3,
      "outputs": []
    },
    {
      "cell_type": "code",
      "metadata": {
        "id": "mxbYssjRZmbe",
        "colab_type": "code",
        "colab": {}
      },
      "source": [
        "dataset_path = '/content/clean_datav4.csv'"
      ],
      "execution_count": 4,
      "outputs": []
    },
    {
      "cell_type": "code",
      "metadata": {
        "id": "0bsFrLwkZt4t",
        "colab_type": "code",
        "colab": {
          "base_uri": "https://localhost:8080/",
          "height": 1000
        },
        "outputId": "7233ea8d-6985-42d0-d6ea-bb1384710974"
      },
      "source": [
        "dataset = pd.read_csv(dataset_path)\n",
        "dataset"
      ],
      "execution_count": 5,
      "outputs": [
        {
          "output_type": "execute_result",
          "data": {
            "text/html": [
              "<div>\n",
              "<style scoped>\n",
              "    .dataframe tbody tr th:only-of-type {\n",
              "        vertical-align: middle;\n",
              "    }\n",
              "\n",
              "    .dataframe tbody tr th {\n",
              "        vertical-align: top;\n",
              "    }\n",
              "\n",
              "    .dataframe thead th {\n",
              "        text-align: right;\n",
              "    }\n",
              "</style>\n",
              "<table border=\"1\" class=\"dataframe\">\n",
              "  <thead>\n",
              "    <tr style=\"text-align: right;\">\n",
              "      <th></th>\n",
              "      <th>Unnamed: 0</th>\n",
              "      <th>Unnamed: 0.1</th>\n",
              "      <th>ID</th>\n",
              "      <th>tweet_id</th>\n",
              "      <th>text</th>\n",
              "      <th>missing_text</th>\n",
              "      <th>Text_Only_Informative</th>\n",
              "      <th>Image_Only_Informative</th>\n",
              "      <th>Directed_Hate</th>\n",
              "      <th>Generalized_Hate</th>\n",
              "      <th>Sarcasm</th>\n",
              "      <th>Allegation</th>\n",
              "      <th>Justification</th>\n",
              "      <th>Refutation</th>\n",
              "      <th>Support</th>\n",
              "      <th>Oppose</th>\n",
              "    </tr>\n",
              "  </thead>\n",
              "  <tbody>\n",
              "    <tr>\n",
              "      <th>0</th>\n",
              "      <td>0</td>\n",
              "      <td>0</td>\n",
              "      <td>0</td>\n",
              "      <td>1.052240e+18</td>\n",
              "      <td>new post domestic violence awareness caught me...</td>\n",
              "      <td>0</td>\n",
              "      <td>1.0</td>\n",
              "      <td>1.0</td>\n",
              "      <td>0.0</td>\n",
              "      <td>0.0</td>\n",
              "      <td>0.0</td>\n",
              "      <td>0.0</td>\n",
              "      <td>1.0</td>\n",
              "      <td>0.0</td>\n",
              "      <td>1.0</td>\n",
              "      <td>0.0</td>\n",
              "    </tr>\n",
              "    <tr>\n",
              "      <th>1</th>\n",
              "      <td>1</td>\n",
              "      <td>1</td>\n",
              "      <td>1</td>\n",
              "      <td>1.052210e+18</td>\n",
              "      <td>domestic violence awareness caught metoo</td>\n",
              "      <td>0</td>\n",
              "      <td>1.0</td>\n",
              "      <td>1.0</td>\n",
              "      <td>0.0</td>\n",
              "      <td>0.0</td>\n",
              "      <td>0.0</td>\n",
              "      <td>0.0</td>\n",
              "      <td>0.0</td>\n",
              "      <td>0.0</td>\n",
              "      <td>1.0</td>\n",
              "      <td>0.0</td>\n",
              "    </tr>\n",
              "    <tr>\n",
              "      <th>2</th>\n",
              "      <td>2</td>\n",
              "      <td>2</td>\n",
              "      <td>2</td>\n",
              "      <td>1.052180e+18</td>\n",
              "      <td>mother nature metoo</td>\n",
              "      <td>0</td>\n",
              "      <td>0.0</td>\n",
              "      <td>1.0</td>\n",
              "      <td>0.0</td>\n",
              "      <td>0.0</td>\n",
              "      <td>0.0</td>\n",
              "      <td>0.0</td>\n",
              "      <td>0.0</td>\n",
              "      <td>0.0</td>\n",
              "      <td>0.0</td>\n",
              "      <td>0.0</td>\n",
              "    </tr>\n",
              "    <tr>\n",
              "      <th>3</th>\n",
              "      <td>3</td>\n",
              "      <td>3</td>\n",
              "      <td>3</td>\n",
              "      <td>1.052160e+18</td>\n",
              "      <td>ption no2</td>\n",
              "      <td>0</td>\n",
              "      <td>1.0</td>\n",
              "      <td>0.0</td>\n",
              "      <td>1.0</td>\n",
              "      <td>0.0</td>\n",
              "      <td>0.0</td>\n",
              "      <td>1.0</td>\n",
              "      <td>0.0</td>\n",
              "      <td>0.0</td>\n",
              "      <td>0.0</td>\n",
              "      <td>1.0</td>\n",
              "    </tr>\n",
              "    <tr>\n",
              "      <th>4</th>\n",
              "      <td>4</td>\n",
              "      <td>4</td>\n",
              "      <td>4</td>\n",
              "      <td>1.052100e+18</td>\n",
              "      <td>high time metoo named shamed men medium advert...</td>\n",
              "      <td>0</td>\n",
              "      <td>1.0</td>\n",
              "      <td>1.0</td>\n",
              "      <td>0.0</td>\n",
              "      <td>0.0</td>\n",
              "      <td>0.0</td>\n",
              "      <td>1.0</td>\n",
              "      <td>0.0</td>\n",
              "      <td>0.0</td>\n",
              "      <td>1.0</td>\n",
              "      <td>0.0</td>\n",
              "    </tr>\n",
              "    <tr>\n",
              "      <th>...</th>\n",
              "      <td>...</td>\n",
              "      <td>...</td>\n",
              "      <td>...</td>\n",
              "      <td>...</td>\n",
              "      <td>...</td>\n",
              "      <td>...</td>\n",
              "      <td>...</td>\n",
              "      <td>...</td>\n",
              "      <td>...</td>\n",
              "      <td>...</td>\n",
              "      <td>...</td>\n",
              "      <td>...</td>\n",
              "      <td>...</td>\n",
              "      <td>...</td>\n",
              "      <td>...</td>\n",
              "      <td>...</td>\n",
              "    </tr>\n",
              "    <tr>\n",
              "      <th>7973</th>\n",
              "      <td>7973</td>\n",
              "      <td>7973</td>\n",
              "      <td>7973</td>\n",
              "      <td>1.052100e+18</td>\n",
              "      <td>one priyaramani make billion people metooindia...</td>\n",
              "      <td>0</td>\n",
              "      <td>0.0</td>\n",
              "      <td>0.0</td>\n",
              "      <td>0.0</td>\n",
              "      <td>0.0</td>\n",
              "      <td>0.0</td>\n",
              "      <td>0.0</td>\n",
              "      <td>0.0</td>\n",
              "      <td>0.0</td>\n",
              "      <td>0.0</td>\n",
              "      <td>0.0</td>\n",
              "    </tr>\n",
              "    <tr>\n",
              "      <th>7974</th>\n",
              "      <td>7974</td>\n",
              "      <td>7974</td>\n",
              "      <td>7974</td>\n",
              "      <td>1.052100e+18</td>\n",
              "      <td>thought metoo limited woman condeming wake rea...</td>\n",
              "      <td>0</td>\n",
              "      <td>0.0</td>\n",
              "      <td>0.0</td>\n",
              "      <td>0.0</td>\n",
              "      <td>0.0</td>\n",
              "      <td>0.0</td>\n",
              "      <td>0.0</td>\n",
              "      <td>0.0</td>\n",
              "      <td>0.0</td>\n",
              "      <td>0.0</td>\n",
              "      <td>0.0</td>\n",
              "    </tr>\n",
              "    <tr>\n",
              "      <th>7975</th>\n",
              "      <td>7975</td>\n",
              "      <td>7975</td>\n",
              "      <td>7975</td>\n",
              "      <td>1.052100e+18</td>\n",
              "      <td>wake metoo movement hairstylist sapna bhavani ...</td>\n",
              "      <td>0</td>\n",
              "      <td>0.0</td>\n",
              "      <td>0.0</td>\n",
              "      <td>0.0</td>\n",
              "      <td>0.0</td>\n",
              "      <td>0.0</td>\n",
              "      <td>0.0</td>\n",
              "      <td>0.0</td>\n",
              "      <td>0.0</td>\n",
              "      <td>0.0</td>\n",
              "      <td>0.0</td>\n",
              "    </tr>\n",
              "    <tr>\n",
              "      <th>7976</th>\n",
              "      <td>7976</td>\n",
              "      <td>7976</td>\n",
              "      <td>7976</td>\n",
              "      <td>1.052100e+18</td>\n",
              "      <td>metoo icc step sexual harassment</td>\n",
              "      <td>0</td>\n",
              "      <td>0.0</td>\n",
              "      <td>0.0</td>\n",
              "      <td>0.0</td>\n",
              "      <td>0.0</td>\n",
              "      <td>0.0</td>\n",
              "      <td>0.0</td>\n",
              "      <td>0.0</td>\n",
              "      <td>0.0</td>\n",
              "      <td>0.0</td>\n",
              "      <td>0.0</td>\n",
              "    </tr>\n",
              "    <tr>\n",
              "      <th>7977</th>\n",
              "      <td>7977</td>\n",
              "      <td>7977</td>\n",
              "      <td>7977</td>\n",
              "      <td>1.052100e+18</td>\n",
              "      <td>long live metoo metooindia hope culprit punish...</td>\n",
              "      <td>0</td>\n",
              "      <td>0.0</td>\n",
              "      <td>0.0</td>\n",
              "      <td>0.0</td>\n",
              "      <td>0.0</td>\n",
              "      <td>0.0</td>\n",
              "      <td>0.0</td>\n",
              "      <td>0.0</td>\n",
              "      <td>0.0</td>\n",
              "      <td>0.0</td>\n",
              "      <td>0.0</td>\n",
              "    </tr>\n",
              "  </tbody>\n",
              "</table>\n",
              "<p>7978 rows × 16 columns</p>\n",
              "</div>"
            ],
            "text/plain": [
              "      Unnamed: 0  Unnamed: 0.1    ID  ...  Refutation Support  Oppose\n",
              "0              0             0     0  ...         0.0     1.0     0.0\n",
              "1              1             1     1  ...         0.0     1.0     0.0\n",
              "2              2             2     2  ...         0.0     0.0     0.0\n",
              "3              3             3     3  ...         0.0     0.0     1.0\n",
              "4              4             4     4  ...         0.0     1.0     0.0\n",
              "...          ...           ...   ...  ...         ...     ...     ...\n",
              "7973        7973          7973  7973  ...         0.0     0.0     0.0\n",
              "7974        7974          7974  7974  ...         0.0     0.0     0.0\n",
              "7975        7975          7975  7975  ...         0.0     0.0     0.0\n",
              "7976        7976          7976  7976  ...         0.0     0.0     0.0\n",
              "7977        7977          7977  7977  ...         0.0     0.0     0.0\n",
              "\n",
              "[7978 rows x 16 columns]"
            ]
          },
          "metadata": {
            "tags": []
          },
          "execution_count": 5
        }
      ]
    },
    {
      "cell_type": "code",
      "metadata": {
        "id": "zmQI4asJZ9nY",
        "colab_type": "code",
        "colab": {
          "base_uri": "https://localhost:8080/",
          "height": 87
        },
        "outputId": "9d0f93bc-d37f-4ce0-d7b3-f5206c743bc9"
      },
      "source": [
        "dataset[(dataset[\"Support\"]==1) & (dataset[\"Oppose\"]==1)]"
      ],
      "execution_count": 6,
      "outputs": [
        {
          "output_type": "execute_result",
          "data": {
            "text/html": [
              "<div>\n",
              "<style scoped>\n",
              "    .dataframe tbody tr th:only-of-type {\n",
              "        vertical-align: middle;\n",
              "    }\n",
              "\n",
              "    .dataframe tbody tr th {\n",
              "        vertical-align: top;\n",
              "    }\n",
              "\n",
              "    .dataframe thead th {\n",
              "        text-align: right;\n",
              "    }\n",
              "</style>\n",
              "<table border=\"1\" class=\"dataframe\">\n",
              "  <thead>\n",
              "    <tr style=\"text-align: right;\">\n",
              "      <th></th>\n",
              "      <th>Unnamed: 0</th>\n",
              "      <th>Unnamed: 0.1</th>\n",
              "      <th>ID</th>\n",
              "      <th>tweet_id</th>\n",
              "      <th>text</th>\n",
              "      <th>missing_text</th>\n",
              "      <th>Text_Only_Informative</th>\n",
              "      <th>Image_Only_Informative</th>\n",
              "      <th>Directed_Hate</th>\n",
              "      <th>Generalized_Hate</th>\n",
              "      <th>Sarcasm</th>\n",
              "      <th>Allegation</th>\n",
              "      <th>Justification</th>\n",
              "      <th>Refutation</th>\n",
              "      <th>Support</th>\n",
              "      <th>Oppose</th>\n",
              "    </tr>\n",
              "  </thead>\n",
              "  <tbody>\n",
              "  </tbody>\n",
              "</table>\n",
              "</div>"
            ],
            "text/plain": [
              "Empty DataFrame\n",
              "Columns: [Unnamed: 0, Unnamed: 0.1, ID, tweet_id, text, missing_text, Text_Only_Informative, Image_Only_Informative, Directed_Hate, Generalized_Hate, Sarcasm, Allegation, Justification, Refutation, Support, Oppose]\n",
              "Index: []"
            ]
          },
          "metadata": {
            "tags": []
          },
          "execution_count": 6
        }
      ]
    },
    {
      "cell_type": "code",
      "metadata": {
        "id": "f8jgRolbahAE",
        "colab_type": "code",
        "colab": {
          "base_uri": "https://localhost:8080/",
          "height": 34
        },
        "outputId": "8eef529d-7b16-43f1-8d6c-115346b0b6f6"
      },
      "source": [
        "len(dataset[(dataset[\"Support\"]==0) & (dataset[\"Oppose\"]==0)])"
      ],
      "execution_count": 7,
      "outputs": [
        {
          "output_type": "execute_result",
          "data": {
            "text/plain": [
              "4875"
            ]
          },
          "metadata": {
            "tags": []
          },
          "execution_count": 7
        }
      ]
    },
    {
      "cell_type": "code",
      "metadata": {
        "id": "CLG4SwPnbR6S",
        "colab_type": "code",
        "colab": {
          "base_uri": "https://localhost:8080/",
          "height": 34
        },
        "outputId": "495e0519-f686-43a3-8824-c3f2dc7d855a"
      },
      "source": [
        "len(dataset[(dataset[\"Support\"]==0) & (dataset[\"Oppose\"]==1)])\n"
      ],
      "execution_count": 8,
      "outputs": [
        {
          "output_type": "execute_result",
          "data": {
            "text/plain": [
              "602"
            ]
          },
          "metadata": {
            "tags": []
          },
          "execution_count": 8
        }
      ]
    },
    {
      "cell_type": "code",
      "metadata": {
        "id": "xhv74IYgbX_x",
        "colab_type": "code",
        "colab": {
          "base_uri": "https://localhost:8080/",
          "height": 34
        },
        "outputId": "746bb15c-9114-472e-95c2-35db2949ddaf"
      },
      "source": [
        "len(dataset[(dataset[\"Support\"]==1) & (dataset[\"Oppose\"]==0)])\n"
      ],
      "execution_count": 9,
      "outputs": [
        {
          "output_type": "execute_result",
          "data": {
            "text/plain": [
              "2501"
            ]
          },
          "metadata": {
            "tags": []
          },
          "execution_count": 9
        }
      ]
    },
    {
      "cell_type": "code",
      "metadata": {
        "id": "4BZQumCebbIn",
        "colab_type": "code",
        "colab": {
          "base_uri": "https://localhost:8080/",
          "height": 486
        },
        "outputId": "bfaa7544-c4c7-4ecf-dae2-791971dc70f5"
      },
      "source": [
        "config = RobertaConfig.from_pretrained('roberta-base')\n",
        "config.num_labels = 3\n",
        "config"
      ],
      "execution_count": 10,
      "outputs": [
        {
          "output_type": "execute_result",
          "data": {
            "text/plain": [
              "{\n",
              "  \"architectures\": [\n",
              "    \"RobertaForMaskedLM\"\n",
              "  ],\n",
              "  \"attention_probs_dropout_prob\": 0.1,\n",
              "  \"bos_token_id\": 0,\n",
              "  \"eos_token_id\": 2,\n",
              "  \"finetuning_task\": null,\n",
              "  \"hidden_act\": \"gelu\",\n",
              "  \"hidden_dropout_prob\": 0.1,\n",
              "  \"hidden_size\": 768,\n",
              "  \"initializer_range\": 0.02,\n",
              "  \"intermediate_size\": 3072,\n",
              "  \"layer_norm_eps\": 1e-05,\n",
              "  \"max_position_embeddings\": 514,\n",
              "  \"model_type\": \"roberta\",\n",
              "  \"num_attention_heads\": 12,\n",
              "  \"num_hidden_layers\": 12,\n",
              "  \"num_labels\": 3,\n",
              "  \"output_attentions\": false,\n",
              "  \"output_hidden_states\": false,\n",
              "  \"pad_token_id\": 1,\n",
              "  \"pruned_heads\": {},\n",
              "  \"torchscript\": false,\n",
              "  \"type_vocab_size\": 1,\n",
              "  \"vocab_size\": 50265\n",
              "}"
            ]
          },
          "metadata": {
            "tags": []
          },
          "execution_count": 10
        }
      ]
    },
    {
      "cell_type": "markdown",
      "metadata": {
        "id": "t3LLKUangnUB",
        "colab_type": "text"
      },
      "source": [
        "**BERT Tokenizer**\n",
        "\n",
        "Here, the BERT tokenizer splits the string into multiple substrings. If the substrings are in its vocabulary, they will stay as is: this is the case for `array`,  `are` and  `cool`. However, if a resulting string is not in its vocabulary, it will be split again until every string is represented by its vocabulary. For example,  `Systolic` is split multiple times until every token is represented in the BERT vocabulary: it is split into four tokens.\n",
        "The BERT tokenizer is lacking when it comes to complex characters spread over multiple bytes, as can be seen with emojis. In the sequence used, an emoji of a whale was added. As the BERT tokenizer cannot interpret this emoji on a byte-level, it replaces it by the unknown token [UNK].\n",
        "\n",
        "**RoBERTa Tokenizer**\n",
        "\n",
        "On the other hand, the RoBERTa tokenizer has a slightly different approach. Here too, the string is split into multiple substrings, which are themselves split into multiple substrings until every substring can be represented by the vocabulary. However, the RoBERTa tokenizer has a **byte-level approach**. This tokenizer can represent every sequence as a combination of bytes, which makes it shine in the case of complex characters spread over multiple bytes, as with the whale emoji. Instead of using the unknown token, this tokenizer can correctly encode the whale emoji as the combination of multiple bytes. This tokenizer therefore does not require an unknown token, as it can handle every byte separately."
      ]
    },
    {
      "cell_type": "code",
      "metadata": {
        "id": "ekSrlQW_bojT",
        "colab_type": "code",
        "colab": {}
      },
      "source": [
        "tokenizer = RobertaTokenizer.from_pretrained('roberta-base')\n",
        "model = RobertaForSequenceClassification(config)"
      ],
      "execution_count": 11,
      "outputs": []
    },
    {
      "cell_type": "code",
      "metadata": {
        "id": "KGU9E6Grb8yZ",
        "colab_type": "code",
        "colab": {}
      },
      "source": [
        "def prepare_sentence_features(sentence, max_sent_length=300, zero_pad=True,\n",
        "                              include_CLS_token=True, include_SEP_token=True):\n",
        "    tokens = tokenizer.tokenize(sentence)\n",
        "    # print(tokens)\n",
        "\n",
        "    if(len(tokens)>max_sent_length-2):\n",
        "        tokens = tokens[:(max_sent_length-2)]\n",
        "    \n",
        "    result = []\n",
        "    if include_CLS_token:\n",
        "        result.append(tokenizer.cls_token)\n",
        "    \n",
        "    result += tokens\n",
        "\n",
        "    if include_SEP_token:\n",
        "        result.append(tokenizer.sep_token)\n",
        "\n",
        "    # print(result)\n",
        "    token_indices = tokenizer.convert_tokens_to_ids(result)\n",
        "    input_mask = [1] * len(token_indices)\n",
        "\n",
        "    if zero_pad:\n",
        "        while(len(token_indices)<max_sent_length):\n",
        "            token_indices+=[0]\n",
        "            input_mask+=[0]\n",
        "        \n",
        "        # note that torch.unsqueeze(input, dim) Returns a new tensor with a \n",
        "        # dimension of size one inserted at the specified position.\n",
        "    return torch.tensor(token_indices).unsqueeze(0), input_mask"
      ],
      "execution_count": 12,
      "outputs": []
    },
    {
      "cell_type": "code",
      "metadata": {
        "id": "ZrhW09qQfiC6",
        "colab_type": "code",
        "colab": {
          "base_uri": "https://localhost:8080/",
          "height": 471
        },
        "outputId": "a0e5395f-a0c2-4f9f-803b-79e76695deec"
      },
      "source": [
        "print(prepare_sentence_features(dataset[\"text\"][0]))"
      ],
      "execution_count": 13,
      "outputs": [
        {
          "output_type": "stream",
          "text": [
            "(tensor([[   0,   92,  618, 1897, 1476, 4199, 2037, 1145, 3036,   92, 1423, 9657,\n",
            "           86, 1027,  429,  120, 2564,    2,    0,    0,    0,    0,    0,    0,\n",
            "            0,    0,    0,    0,    0,    0,    0,    0,    0,    0,    0,    0,\n",
            "            0,    0,    0,    0,    0,    0,    0,    0,    0,    0,    0,    0,\n",
            "            0,    0,    0,    0,    0,    0,    0,    0,    0,    0,    0,    0,\n",
            "            0,    0,    0,    0,    0,    0,    0,    0,    0,    0,    0,    0,\n",
            "            0,    0,    0,    0,    0,    0,    0,    0,    0,    0,    0,    0,\n",
            "            0,    0,    0,    0,    0,    0,    0,    0,    0,    0,    0,    0,\n",
            "            0,    0,    0,    0,    0,    0,    0,    0,    0,    0,    0,    0,\n",
            "            0,    0,    0,    0,    0,    0,    0,    0,    0,    0,    0,    0,\n",
            "            0,    0,    0,    0,    0,    0,    0,    0,    0,    0,    0,    0,\n",
            "            0,    0,    0,    0,    0,    0,    0,    0,    0,    0,    0,    0,\n",
            "            0,    0,    0,    0,    0,    0,    0,    0,    0,    0,    0,    0,\n",
            "            0,    0,    0,    0,    0,    0,    0,    0,    0,    0,    0,    0,\n",
            "            0,    0,    0,    0,    0,    0,    0,    0,    0,    0,    0,    0,\n",
            "            0,    0,    0,    0,    0,    0,    0,    0,    0,    0,    0,    0,\n",
            "            0,    0,    0,    0,    0,    0,    0,    0,    0,    0,    0,    0,\n",
            "            0,    0,    0,    0,    0,    0,    0,    0,    0,    0,    0,    0,\n",
            "            0,    0,    0,    0,    0,    0,    0,    0,    0,    0,    0,    0,\n",
            "            0,    0,    0,    0,    0,    0,    0,    0,    0,    0,    0,    0,\n",
            "            0,    0,    0,    0,    0,    0,    0,    0,    0,    0,    0,    0,\n",
            "            0,    0,    0,    0,    0,    0,    0,    0,    0,    0,    0,    0,\n",
            "            0,    0,    0,    0,    0,    0,    0,    0,    0,    0,    0,    0,\n",
            "            0,    0,    0,    0,    0,    0,    0,    0,    0,    0,    0,    0,\n",
            "            0,    0,    0,    0,    0,    0,    0,    0,    0,    0,    0,    0]]), [1, 1, 1, 1, 1, 1, 1, 1, 1, 1, 1, 1, 1, 1, 1, 1, 1, 1, 0, 0, 0, 0, 0, 0, 0, 0, 0, 0, 0, 0, 0, 0, 0, 0, 0, 0, 0, 0, 0, 0, 0, 0, 0, 0, 0, 0, 0, 0, 0, 0, 0, 0, 0, 0, 0, 0, 0, 0, 0, 0, 0, 0, 0, 0, 0, 0, 0, 0, 0, 0, 0, 0, 0, 0, 0, 0, 0, 0, 0, 0, 0, 0, 0, 0, 0, 0, 0, 0, 0, 0, 0, 0, 0, 0, 0, 0, 0, 0, 0, 0, 0, 0, 0, 0, 0, 0, 0, 0, 0, 0, 0, 0, 0, 0, 0, 0, 0, 0, 0, 0, 0, 0, 0, 0, 0, 0, 0, 0, 0, 0, 0, 0, 0, 0, 0, 0, 0, 0, 0, 0, 0, 0, 0, 0, 0, 0, 0, 0, 0, 0, 0, 0, 0, 0, 0, 0, 0, 0, 0, 0, 0, 0, 0, 0, 0, 0, 0, 0, 0, 0, 0, 0, 0, 0, 0, 0, 0, 0, 0, 0, 0, 0, 0, 0, 0, 0, 0, 0, 0, 0, 0, 0, 0, 0, 0, 0, 0, 0, 0, 0, 0, 0, 0, 0, 0, 0, 0, 0, 0, 0, 0, 0, 0, 0, 0, 0, 0, 0, 0, 0, 0, 0, 0, 0, 0, 0, 0, 0, 0, 0, 0, 0, 0, 0, 0, 0, 0, 0, 0, 0, 0, 0, 0, 0, 0, 0, 0, 0, 0, 0, 0, 0, 0, 0, 0, 0, 0, 0, 0, 0, 0, 0, 0, 0, 0, 0, 0, 0, 0, 0, 0, 0, 0, 0, 0, 0, 0, 0, 0, 0, 0, 0, 0, 0, 0, 0, 0, 0, 0, 0, 0, 0, 0, 0, 0, 0, 0, 0, 0, 0])\n"
          ],
          "name": "stdout"
        }
      ]
    },
    {
      "cell_type": "code",
      "metadata": {
        "id": "HCfNVlB0ftJX",
        "colab_type": "code",
        "colab": {}
      },
      "source": [
        "# will now have to create a custom Dataset Loader Class"
      ],
      "execution_count": 14,
      "outputs": []
    },
    {
      "cell_type": "code",
      "metadata": {
        "id": "8a38AxiynBA5",
        "colab_type": "code",
        "colab": {}
      },
      "source": [
        "# now need to make dataframe consisting of text and labels"
      ],
      "execution_count": 15,
      "outputs": []
    },
    {
      "cell_type": "code",
      "metadata": {
        "id": "tTQNv3VonkxK",
        "colab_type": "code",
        "colab": {}
      },
      "source": [
        "df = dataset"
      ],
      "execution_count": 16,
      "outputs": []
    },
    {
      "cell_type": "code",
      "metadata": {
        "id": "5zHo9VvknmUt",
        "colab_type": "code",
        "colab": {}
      },
      "source": [
        "text = df['text'].values.reshape(-1, 1)\n",
        "no_rows = text.shape[0]\n",
        "support = df['Support'].values.reshape(-1, 1)\n",
        "oppose = df['Oppose'].values.reshape(-1, 1)\n",
        "labels = np.zeros(support.shape)\n",
        "labels = support * 1 + oppose * 2\n",
        "twos = labels[labels==2]\n",
        "ones = labels[labels==1]"
      ],
      "execution_count": 17,
      "outputs": []
    },
    {
      "cell_type": "code",
      "metadata": {
        "id": "_ab0U6XJ8GNv",
        "colab_type": "code",
        "colab": {
          "base_uri": "https://localhost:8080/",
          "height": 139
        },
        "outputId": "baaee7fa-281a-4f8f-b52f-49c6eeb392c4"
      },
      "source": [
        "labels = labels.astype(np.int32)\n",
        "labels"
      ],
      "execution_count": 18,
      "outputs": [
        {
          "output_type": "execute_result",
          "data": {
            "text/plain": [
              "array([[1],\n",
              "       [1],\n",
              "       [0],\n",
              "       ...,\n",
              "       [0],\n",
              "       [0],\n",
              "       [0]], dtype=int32)"
            ]
          },
          "metadata": {
            "tags": []
          },
          "execution_count": 18
        }
      ]
    },
    {
      "cell_type": "code",
      "metadata": {
        "id": "J5SpG1QcoY7i",
        "colab_type": "code",
        "colab": {
          "base_uri": "https://localhost:8080/",
          "height": 34
        },
        "outputId": "50378880-acec-48fc-84dc-93ce34e18323"
      },
      "source": [
        "print(ones.shape, twos.shape)\n",
        "data_arr = np.concatenate((text, labels), axis=1)\n",
        "data_twos=data_arr[data_arr[:, 1]==2]\n",
        "data_ones=data_arr[data_arr[:, 1]==1]\n",
        "data_zeros=data_arr[data_arr[:, 1]==0]"
      ],
      "execution_count": 19,
      "outputs": [
        {
          "output_type": "stream",
          "text": [
            "(2501,) (602,)\n"
          ],
          "name": "stdout"
        }
      ]
    },
    {
      "cell_type": "code",
      "metadata": {
        "id": "LMhY1qjcQfzj",
        "colab_type": "code",
        "colab": {
          "base_uri": "https://localhost:8080/",
          "height": 36
        },
        "outputId": "7d790bd3-dfc4-43d6-e587-db94266ff122"
      },
      "source": [
        "data_twos[10, 0]"
      ],
      "execution_count": 53,
      "outputs": [
        {
          "output_type": "execute_result",
          "data": {
            "application/vnd.google.colaboratory.intrinsic": {
              "type": "string"
            },
            "text/plain": [
              "'metoo potent enemy higher award harassment victim workplace '"
            ]
          },
          "metadata": {
            "tags": []
          },
          "execution_count": 53
        }
      ]
    },
    {
      "cell_type": "code",
      "metadata": {
        "id": "euRTsYvwqL3U",
        "colab_type": "code",
        "colab": {}
      },
      "source": [
        "train_rows = 5983 #0.75\n",
        "test_rows = 7978 - 5983 #0.25"
      ],
      "execution_count": 20,
      "outputs": []
    },
    {
      "cell_type": "code",
      "metadata": {
        "id": "KubqHi4oqT7B",
        "colab_type": "code",
        "colab": {}
      },
      "source": [
        "from sklearn.model_selection import train_test_split\n",
        "ones_text_train, ones_text_test, ones_label_train, ones_label_test = train_test_split(data_ones[:, 0], data_ones[:, 1], train_size=0.9, shuffle=True)\n",
        "twos_text_train, twos_text_test, twos_label_train, twos_label_test = train_test_split(data_twos[:, 0], data_twos[:, 1], train_size=0.9, shuffle=True)"
      ],
      "execution_count": 21,
      "outputs": []
    },
    {
      "cell_type": "markdown",
      "metadata": {
        "id": "Z0Lwyd7vqkxE",
        "colab_type": "text"
      },
      "source": [
        "I plan to include 90% of ones and 90% of twos in my train set\n",
        "<br>\n",
        "Remaining all will be zeros"
      ]
    },
    {
      "cell_type": "code",
      "metadata": {
        "id": "L8QOaJMEqudy",
        "colab_type": "code",
        "colab": {
          "base_uri": "https://localhost:8080/",
          "height": 34
        },
        "outputId": "3f2e723b-4403-4f02-cff4-07ea4cce762a"
      },
      "source": [
        "req_zeros = train_rows - (ones_text_train.shape[0]+twos_text_train.shape[0])\n",
        "req_zeros"
      ],
      "execution_count": 22,
      "outputs": [
        {
          "output_type": "execute_result",
          "data": {
            "text/plain": [
              "3192"
            ]
          },
          "metadata": {
            "tags": []
          },
          "execution_count": 22
        }
      ]
    },
    {
      "cell_type": "code",
      "metadata": {
        "id": "CDGO6U4Pq9FK",
        "colab_type": "code",
        "colab": {}
      },
      "source": [
        "np.random.shuffle(data_zeros)\n",
        "zeros_text_train = data_zeros[:req_zeros, 0]\n",
        "zeros_text_test = data_zeros[req_zeros:, 0]\n",
        "\n",
        "zeros_label_train = data_zeros[:req_zeros, 1]\n",
        "zeros_label_test = data_zeros[req_zeros:, 1]"
      ],
      "execution_count": 23,
      "outputs": []
    },
    {
      "cell_type": "code",
      "metadata": {
        "id": "-2NOttnVrEys",
        "colab_type": "code",
        "colab": {}
      },
      "source": [
        "text_train = np.concatenate((zeros_text_train, ones_text_train, twos_text_train), axis=0)\n",
        "label_train = np.concatenate((zeros_label_train, ones_label_train, twos_label_train), axis=0)\n",
        "\n",
        "text_test = np.concatenate((zeros_text_test, ones_text_test, twos_text_test), axis=0)\n",
        "label_test = np.concatenate((zeros_label_test, ones_label_test, twos_label_test), axis=0)\n",
        "\n",
        "text_train=text_train.reshape(-1, 1)\n",
        "text_test=text_test.reshape(-1, 1)\n",
        "label_train=label_train.reshape(-1, 1)\n",
        "label_test=label_test.reshape(-1, 1)"
      ],
      "execution_count": 24,
      "outputs": []
    },
    {
      "cell_type": "code",
      "metadata": {
        "id": "9R9d8Sd7rK2e",
        "colab_type": "code",
        "colab": {}
      },
      "source": [
        "train_df = pd.DataFrame(data=np.concatenate((text_train, label_train), axis=1), columns=['text', 'labels'], index=None).sample(frac=1).reset_index(drop=True)\n",
        "test_df = pd.DataFrame(data=np.concatenate((text_test, label_test), axis=1), columns=['text', 'labels'], index=None).sample(frac=1).reset_index(drop=True)"
      ],
      "execution_count": 25,
      "outputs": []
    },
    {
      "cell_type": "code",
      "metadata": {
        "id": "-uLk2e6lFrqu",
        "colab_type": "code",
        "colab": {}
      },
      "source": [
        "train_df=train_df.dropna()\n",
        "train_df = train_df.reset_index(drop=True)"
      ],
      "execution_count": 26,
      "outputs": []
    },
    {
      "cell_type": "code",
      "metadata": {
        "id": "EgX69CWGFEP2",
        "colab_type": "code",
        "colab": {
          "base_uri": "https://localhost:8080/",
          "height": 49
        },
        "outputId": "9f479c51-4663-47af-8f63-1472f3f5f21f"
      },
      "source": [
        "train_df[train_df.isnull().values.any(axis=1)]"
      ],
      "execution_count": 27,
      "outputs": [
        {
          "output_type": "execute_result",
          "data": {
            "text/html": [
              "<div>\n",
              "<style scoped>\n",
              "    .dataframe tbody tr th:only-of-type {\n",
              "        vertical-align: middle;\n",
              "    }\n",
              "\n",
              "    .dataframe tbody tr th {\n",
              "        vertical-align: top;\n",
              "    }\n",
              "\n",
              "    .dataframe thead th {\n",
              "        text-align: right;\n",
              "    }\n",
              "</style>\n",
              "<table border=\"1\" class=\"dataframe\">\n",
              "  <thead>\n",
              "    <tr style=\"text-align: right;\">\n",
              "      <th></th>\n",
              "      <th>text</th>\n",
              "      <th>labels</th>\n",
              "    </tr>\n",
              "  </thead>\n",
              "  <tbody>\n",
              "  </tbody>\n",
              "</table>\n",
              "</div>"
            ],
            "text/plain": [
              "Empty DataFrame\n",
              "Columns: [text, labels]\n",
              "Index: []"
            ]
          },
          "metadata": {
            "tags": []
          },
          "execution_count": 27
        }
      ]
    },
    {
      "cell_type": "code",
      "metadata": {
        "id": "7wCbEVILFeMu",
        "colab_type": "code",
        "colab": {
          "base_uri": "https://localhost:8080/",
          "height": 49
        },
        "outputId": "0e24ad44-54b7-400e-b858-fdb7919402f9"
      },
      "source": [
        "test_df[test_df.isnull().values.any(axis=1)]\n"
      ],
      "execution_count": 28,
      "outputs": [
        {
          "output_type": "execute_result",
          "data": {
            "text/html": [
              "<div>\n",
              "<style scoped>\n",
              "    .dataframe tbody tr th:only-of-type {\n",
              "        vertical-align: middle;\n",
              "    }\n",
              "\n",
              "    .dataframe tbody tr th {\n",
              "        vertical-align: top;\n",
              "    }\n",
              "\n",
              "    .dataframe thead th {\n",
              "        text-align: right;\n",
              "    }\n",
              "</style>\n",
              "<table border=\"1\" class=\"dataframe\">\n",
              "  <thead>\n",
              "    <tr style=\"text-align: right;\">\n",
              "      <th></th>\n",
              "      <th>text</th>\n",
              "      <th>labels</th>\n",
              "    </tr>\n",
              "  </thead>\n",
              "  <tbody>\n",
              "  </tbody>\n",
              "</table>\n",
              "</div>"
            ],
            "text/plain": [
              "Empty DataFrame\n",
              "Columns: [text, labels]\n",
              "Index: []"
            ]
          },
          "metadata": {
            "tags": []
          },
          "execution_count": 28
        }
      ]
    },
    {
      "cell_type": "code",
      "metadata": {
        "id": "G7y2MS9grdne",
        "colab_type": "code",
        "colab": {}
      },
      "source": [
        "class Stance(Dataset):\n",
        "    def __init__(self, dataframe):\n",
        "        self.len = len(dataframe)\n",
        "        self.data = dataframe\n",
        "    \n",
        "    def __getitem__(self, ind):\n",
        "        label = self.data['labels'][ind]\n",
        "        text = self.data['text'][ind]\n",
        "        X, input_mask = prepare_sentence_features(text)\n",
        "        y = label\n",
        "        return X, y\n",
        "\n",
        "    def __len__(self):\n",
        "        return self.len"
      ],
      "execution_count": 29,
      "outputs": []
    },
    {
      "cell_type": "code",
      "metadata": {
        "id": "TqBfzseWslsZ",
        "colab_type": "code",
        "colab": {}
      },
      "source": [
        "training_set = Stance(train_df)\n",
        "testing_set = Stance(test_df)"
      ],
      "execution_count": 30,
      "outputs": []
    },
    {
      "cell_type": "code",
      "metadata": {
        "id": "250DFIAVs0IP",
        "colab_type": "code",
        "colab": {
          "base_uri": "https://localhost:8080/",
          "height": 34
        },
        "outputId": "ebf0d909-aa04-43fa-91c4-e7c96687c254"
      },
      "source": [
        "training_set.__getitem__(0)[0].shape"
      ],
      "execution_count": 31,
      "outputs": [
        {
          "output_type": "execute_result",
          "data": {
            "text/plain": [
              "torch.Size([1, 300])"
            ]
          },
          "metadata": {
            "tags": []
          },
          "execution_count": 31
        }
      ]
    },
    {
      "cell_type": "code",
      "metadata": {
        "id": "sk68BVnls4XG",
        "colab_type": "code",
        "colab": {
          "base_uri": "https://localhost:8080/",
          "height": 34
        },
        "outputId": "4a600c68-da5c-4d29-de2d-4b659dced38f"
      },
      "source": [
        "model(training_set.__getitem__(0)[0])"
      ],
      "execution_count": 32,
      "outputs": [
        {
          "output_type": "execute_result",
          "data": {
            "text/plain": [
              "(tensor([[0.1362, 0.3850, 0.1579]], grad_fn=<AddmmBackward>),)"
            ]
          },
          "metadata": {
            "tags": []
          },
          "execution_count": 32
        }
      ]
    },
    {
      "cell_type": "code",
      "metadata": {
        "id": "FYedv7a0tMqJ",
        "colab_type": "code",
        "colab": {
          "base_uri": "https://localhost:8080/",
          "height": 34
        },
        "outputId": "c0c8d440-e1b6-4b0a-ed4d-a0f6bc173425"
      },
      "source": [
        "device = torch.device(\"cuda\" if torch.cuda.is_available() else \"cpu\")\n",
        "model = model.cuda()\n",
        "device"
      ],
      "execution_count": 33,
      "outputs": [
        {
          "output_type": "execute_result",
          "data": {
            "text/plain": [
              "device(type='cuda')"
            ]
          },
          "metadata": {
            "tags": []
          },
          "execution_count": 33
        }
      ]
    },
    {
      "cell_type": "code",
      "metadata": {
        "id": "323epdWytdOu",
        "colab_type": "code",
        "colab": {}
      },
      "source": [
        "params = {\n",
        "    'batch_size':1,\n",
        "    'shuffle':True,\n",
        "    'drop_last':False,#does not drop the last non - full batch of each workers's dataset replica\n",
        "    'num_workers':1#only create 1 worker process\n",
        "}"
      ],
      "execution_count": 34,
      "outputs": []
    },
    {
      "cell_type": "code",
      "metadata": {
        "id": "eaOE5OsLtrtC",
        "colab_type": "code",
        "colab": {}
      },
      "source": [
        "training_loader = DataLoader(training_set, **params)\n",
        "testing_loader = DataLoader(testing_set, **params)"
      ],
      "execution_count": 35,
      "outputs": []
    },
    {
      "cell_type": "code",
      "metadata": {
        "id": "5PdTXpj4vNM1",
        "colab_type": "code",
        "colab": {}
      },
      "source": [
        "loss_function = nn.CrossEntropyLoss()\n",
        "learning_rate = 1e-05\n",
        "optimizer = optim.Adam(params = model.parameters(), lr = learning_rate)"
      ],
      "execution_count": 36,
      "outputs": []
    },
    {
      "cell_type": "code",
      "metadata": {
        "id": "LIfSypEVvZvc",
        "colab_type": "code",
        "colab": {
          "base_uri": "https://localhost:8080/",
          "height": 34
        },
        "outputId": "b865aa48-856b-4054-9b31-e0aaf0caa51b"
      },
      "source": [
        "model.parameters()"
      ],
      "execution_count": 37,
      "outputs": [
        {
          "output_type": "execute_result",
          "data": {
            "text/plain": [
              "<generator object Module.parameters at 0x7f4344314150>"
            ]
          },
          "metadata": {
            "tags": []
          },
          "execution_count": 37
        }
      ]
    },
    {
      "cell_type": "code",
      "metadata": {
        "id": "VcJLTLd0vbV7",
        "colab_type": "code",
        "colab": {
          "base_uri": "https://localhost:8080/",
          "height": 34
        },
        "outputId": "d5df41ce-45a9-4492-d523-5d8c7e97a1cb"
      },
      "source": [
        "inp = training_set.__getitem__(0)[0].cuda()\n",
        "op = model(inp)[0]\n",
        "print(op)"
      ],
      "execution_count": 38,
      "outputs": [
        {
          "output_type": "stream",
          "text": [
            "tensor([[0.3108, 0.1391, 0.2475]], device='cuda:0', grad_fn=<AddmmBackward>)\n"
          ],
          "name": "stdout"
        }
      ]
    },
    {
      "cell_type": "code",
      "metadata": {
        "id": "pCsmfXlHvnMk",
        "colab_type": "code",
        "colab": {
          "base_uri": "https://localhost:8080/",
          "height": 36
        },
        "outputId": "c6479e17-2e16-4d3e-ddc4-706bb88fe40e"
      },
      "source": [
        "torch.__version__"
      ],
      "execution_count": 39,
      "outputs": [
        {
          "output_type": "execute_result",
          "data": {
            "application/vnd.google.colaboratory.intrinsic": {
              "type": "string"
            },
            "text/plain": [
              "'1.5.1+cu101'"
            ]
          },
          "metadata": {
            "tags": []
          },
          "execution_count": 39
        }
      ]
    },
    {
      "cell_type": "code",
      "metadata": {
        "id": "yoWxyk5Sw1z3",
        "colab_type": "code",
        "colab": {
          "base_uri": "https://localhost:8080/",
          "height": 34
        },
        "outputId": "bf833816-7656-4b2c-9f46-1c55533e2c12"
      },
      "source": [
        "a = torch.randn(1, 4)\n",
        "torch.max(a, 1)"
      ],
      "execution_count": 40,
      "outputs": [
        {
          "output_type": "execute_result",
          "data": {
            "text/plain": [
              "torch.return_types.max(values=tensor([1.8308]), indices=tensor([2]))"
            ]
          },
          "metadata": {
            "tags": []
          },
          "execution_count": 40
        }
      ]
    },
    {
      "cell_type": "code",
      "metadata": {
        "id": "FScUK1oSxwRv",
        "colab_type": "code",
        "colab": {
          "base_uri": "https://localhost:8080/",
          "height": 34
        },
        "outputId": "fd01f012-8aa0-47a6-878c-b0a8401956ed"
      },
      "source": [
        "test_df.shape"
      ],
      "execution_count": 41,
      "outputs": [
        {
          "output_type": "execute_result",
          "data": {
            "text/plain": [
              "(1995, 2)"
            ]
          },
          "metadata": {
            "tags": []
          },
          "execution_count": 41
        }
      ]
    },
    {
      "cell_type": "code",
      "metadata": {
        "id": "k_5zn4J14KIX",
        "colab_type": "code",
        "colab": {}
      },
      "source": [
        "# i = 0\n",
        "# total =0\n",
        "# correct = 0\n",
        "# for sent, label in training_loader:\n",
        "#     sent = sent.squeeze(0).cuda()\n",
        "#     print(sent, label)\n",
        "#     output = model(sent)[0]\n",
        "#     _, predicted = torch.max(output.data, 1)\n",
        "#     total+=label.size(0)\n",
        "#     correct += (predicted.cpu() == label.cpu()).sum()\n",
        "#     i+=1\n",
        "#     if i==1:\n",
        "#         break\n",
        "# accuracy = 100.00 * correct.numpy()/total"
      ],
      "execution_count": 42,
      "outputs": []
    },
    {
      "cell_type": "code",
      "metadata": {
        "id": "6NiXWJjo1Mbb",
        "colab_type": "code",
        "colab": {}
      },
      "source": [
        "test_df['text']=test_df['text'].astype('str')\n",
        "train_df['text']=train_df['text'].astype('str')"
      ],
      "execution_count": 43,
      "outputs": []
    },
    {
      "cell_type": "code",
      "metadata": {
        "id": "TTyNt85lxl8m",
        "colab_type": "code",
        "colab": {
          "base_uri": "https://localhost:8080/",
          "height": 34
        },
        "outputId": "d1c0fde1-5bda-4754-f855-47834bbbaab8"
      },
      "source": [
        "types=[]\n",
        "for s in train_df[\"text\"]:\n",
        "    types.append(str(type(s)))\n",
        "np.unique(types)"
      ],
      "execution_count": 44,
      "outputs": [
        {
          "output_type": "execute_result",
          "data": {
            "text/plain": [
              "array([\"<class 'str'>\"], dtype='<U13')"
            ]
          },
          "metadata": {
            "tags": []
          },
          "execution_count": 44
        }
      ]
    },
    {
      "cell_type": "code",
      "metadata": {
        "id": "AWhLs8WKvu6U",
        "colab_type": "code",
        "colab": {
          "base_uri": "https://localhost:8080/",
          "height": 431,
          "referenced_widgets": [
            "0e87e39f7493469484703ff7dd6aef78",
            "944145241c474c7d96acef0d59602dbb",
            "c72300a60e694bc7b60704ba9b7fb39b",
            "7756f165ef424fe591c0655d148e0443",
            "6698cff3cdf1410191973dc9b8041733",
            "20b179a458344d63b30a6af91243a6e4",
            "d0a5ec272f78461e918ec584a644990a",
            "515f11ff87f24ee68939cb88a50be8b6"
          ]
        },
        "outputId": "2eadbea1-dd26-40c5-874c-ea525d2107e5"
      },
      "source": [
        "max_epochs = 3\n",
        "model = model.train()\n",
        "for epoch in tqdm.notebook.tqdm(range(max_epochs)):\n",
        "    print(f\"EPOCH -- {epoch}\")\n",
        "    for i, (sent, label) in enumerate(training_loader):\n",
        "        optimizer.zero_grad()#resetting gradients\n",
        "        sent = sent.squeeze(0)\n",
        "        if torch.cuda.is_available():\n",
        "            sent = sent.cuda()\n",
        "            label = label.cuda()\n",
        "        output = model.forward(sent)[0]\n",
        "        _, max_ind = torch.max(output, 1)\n",
        "            \n",
        "        loss = loss_function(output, label)\n",
        "        loss.backward()\n",
        "        optimizer.step()\n",
        "\n",
        "        if i%1000 == 0:\n",
        "            correct = 0\n",
        "            total = 0\n",
        "            for sent, label in testing_loader:\n",
        "                sent = sent.squeeze(0)\n",
        "                if torch.cuda.is_available():\n",
        "                    sent = sent.cuda()\n",
        "                    label = label.cuda()\n",
        "                output = model.forward(sent)[0]\n",
        "                _, predicted = torch.max(output.data, 1)\n",
        "                total+=label.size(0)\n",
        "                correct += (predicted.cpu() == label.cpu()).sum()\n",
        "            accuracy = 100.00 * correct.numpy()/total\n",
        "            print(f\"Iteration: {i}, Loss: {loss.item()}, Accuracy: {accuracy}\")"
      ],
      "execution_count": 47,
      "outputs": [
        {
          "output_type": "display_data",
          "data": {
            "application/vnd.jupyter.widget-view+json": {
              "model_id": "0e87e39f7493469484703ff7dd6aef78",
              "version_minor": 0,
              "version_major": 2
            },
            "text/plain": [
              "HBox(children=(FloatProgress(value=0.0, max=3.0), HTML(value='')))"
            ]
          },
          "metadata": {
            "tags": []
          }
        },
        {
          "output_type": "stream",
          "text": [
            "EPOCH -- 0\n",
            "Iteration: 0, Loss: 0.4755229949951172, Accuracy: 84.41102756892231\n",
            "Iteration: 1000, Loss: 0.685578465461731, Accuracy: 71.9298245614035\n",
            "Iteration: 2000, Loss: 1.0936509370803833, Accuracy: 84.06015037593986\n",
            "Iteration: 3000, Loss: 0.9138317108154297, Accuracy: 83.85964912280701\n",
            "Iteration: 4000, Loss: 1.171872854232788, Accuracy: 61.00250626566416\n",
            "Iteration: 5000, Loss: 0.6362693309783936, Accuracy: 35.6390977443609\n",
            "EPOCH -- 1\n",
            "Iteration: 0, Loss: 1.1631195545196533, Accuracy: 83.30827067669173\n",
            "Iteration: 1000, Loss: 2.5677711963653564, Accuracy: 66.9172932330827\n",
            "Iteration: 2000, Loss: 0.6895544528961182, Accuracy: 38.446115288220554\n",
            "Iteration: 3000, Loss: 1.1534366607666016, Accuracy: 84.06015037593986\n",
            "Iteration: 4000, Loss: 0.9210395812988281, Accuracy: 70.57644110275689\n",
            "Iteration: 5000, Loss: 1.0356955528259277, Accuracy: 80.45112781954887\n",
            "EPOCH -- 2\n",
            "Iteration: 0, Loss: 0.48753929138183594, Accuracy: 84.41102756892231\n",
            "Iteration: 1000, Loss: 0.789152979850769, Accuracy: 50.0250626566416\n",
            "Iteration: 2000, Loss: 0.8116763830184937, Accuracy: 63.55889724310777\n",
            "Iteration: 3000, Loss: 0.6967873573303223, Accuracy: 82.85714285714286\n",
            "Iteration: 4000, Loss: 2.438277244567871, Accuracy: 47.067669172932334\n",
            "Iteration: 5000, Loss: 2.171076536178589, Accuracy: 83.7593984962406\n",
            "\n"
          ],
          "name": "stdout"
        }
      ]
    },
    {
      "cell_type": "code",
      "metadata": {
        "id": "AAMOUGwRPzwm",
        "colab_type": "code",
        "colab": {
          "base_uri": "https://localhost:8080/",
          "height": 36
        },
        "outputId": "baf2e450-881a-4fd5-9b05-581fe3715242"
      },
      "source": [
        "path = './roberta_state_dict_'+ str(uuid4())+'.pth'\n",
        "path"
      ],
      "execution_count": 51,
      "outputs": [
        {
          "output_type": "execute_result",
          "data": {
            "application/vnd.google.colaboratory.intrinsic": {
              "type": "string"
            },
            "text/plain": [
              "'./roberta_state_dict_38daed95-e4e9-44ed-8dc2-8760bbf9bf37.pth'"
            ]
          },
          "metadata": {
            "tags": []
          },
          "execution_count": 51
        }
      ]
    },
    {
      "cell_type": "code",
      "metadata": {
        "id": "jjc55u0zzHzf",
        "colab_type": "code",
        "colab": {}
      },
      "source": [
        "torch.save(model.state_dict(), path)"
      ],
      "execution_count": 50,
      "outputs": []
    },
    {
      "cell_type": "code",
      "metadata": {
        "id": "vXCNcyvy1hPV",
        "colab_type": "code",
        "colab": {
          "base_uri": "https://localhost:8080/",
          "height": 34
        },
        "outputId": "907b13ca-aa38-4014-8e5f-7af2d23ff2e2"
      },
      "source": [
        "model(prepare_sentence_features('metoo potent enemy higher award harassment victim workplace')[0].cuda())"
      ],
      "execution_count": 56,
      "outputs": [
        {
          "output_type": "execute_result",
          "data": {
            "text/plain": [
              "(tensor([[ 0.9388,  0.6549, -0.4261]], device='cuda:0', grad_fn=<AddmmBackward>),)"
            ]
          },
          "metadata": {
            "tags": []
          },
          "execution_count": 56
        }
      ]
    },
    {
      "cell_type": "code",
      "metadata": {
        "id": "HgQwjNqUQufo",
        "colab_type": "code",
        "colab": {}
      },
      "source": [
        ""
      ],
      "execution_count": null,
      "outputs": []
    }
  ]
}